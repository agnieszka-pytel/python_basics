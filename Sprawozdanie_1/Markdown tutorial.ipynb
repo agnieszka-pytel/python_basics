{
 "cells": [
  {
   "cell_type": "markdown",
   "metadata": {},
   "source": [
    "# Kurs podstaw języka Markdown\n",
    "\n",
    "## 1. Nagłówki\n",
    "\n",
    "Nagłówki tworzone są przy pomocy znaków \"#\" dodawanych na początku każdej linii:\n",
    "\n",
    "# Nagłówek 1\n",
    "## Nagłówek 2\n",
    "### Nagłówek 3\n",
    "#### Nagłówek 4\n",
    "##### Nagłówek 5\n"
   ]
  },
  {
   "cell_type": "code",
   "execution_count": null,
   "metadata": {},
   "outputs": [],
   "source": [
    "# Nagłówek 1\n",
    "## Nagłówek 2\n",
    "### Nagłówek 3\n",
    "#### Nagłówek 4\n",
    "##### Nagłówek 5"
   ]
  },
  {
   "cell_type": "markdown",
   "metadata": {},
   "source": [
    "## 2. Akapity, sekcje\n",
    "\n",
    "Aby stworzyć nowy akapit, wystarczy dodać w odpowiednim miejscu dwie puste komórki."
   ]
  },
  {
   "cell_type": "markdown",
   "metadata": {},
   "source": [
    "\n"
   ]
  },
  {
   "cell_type": "markdown",
   "metadata": {},
   "source": [
    "## 3. Formatowanie tekstu\n",
    "\n",
    "   1. *Kursywa* - tworzona przy pomocy pojedynczych znaków \"\\*\"\n",
    "   2. **Pogrubienie** - tworzone przy pomocy podwójnych znaków \"\\*\"\n",
    "   3. ~~Przekreślenie~~- tworzone przy pomocy podwójnych znaków \"~\"\n",
    "   4. Kod - tworzony przy pomocy znaków \"\\`\"\n",
    "   \n",
    "   Kod: \n",
    "   \n",
    "   `print (\"Dzień dobry\")`\n",
    "   \n",
    "   \n",
    "   5. Blok kodu - tworzony przy pomocy potrójnych znaków \"\\`\"\n",
    "   \n",
    "   Blok kodu:\n",
    "      \n",
    "   ```\n",
    "   function add(a, b)  {\n",
    "        int suma;\n",
    "        suma = a + b;\n",
    "        return suma;\n",
    "   }\n",
    "   ```"
   ]
  },
  {
   "cell_type": "code",
   "execution_count": null,
   "metadata": {},
   "outputs": [],
   "source": [
    "# *Kursywa*\n",
    "# **Pogrubienie**\n",
    "# ~~Przekreślenie~~\n",
    "# Kod:\n",
    "# `print (\"Dzień dobry\")`\n",
    "# Blok kodu: \n",
    "#   ```\n",
    "#   function add(a, b)  {\n",
    "#        int suma;\n",
    "#        suma = a + b;\n",
    "#        return suma;\n",
    "#   }\n",
    "#   ```"
   ]
  },
  {
   "cell_type": "markdown",
   "metadata": {},
   "source": [
    "## 4. Lista numerowana\n",
    "\n",
    "Listę numerowaną tworzy się poprzez wstawienie cyfry na początku wiersza:\n",
    "\n",
    "1. Punkt 1\n",
    "2. Punkt 2\n",
    "3. Punkt 3\n",
    "\n",
    "\n",
    "\n",
    "Kolejne poziomy listy tworzy się analogicznie, dodatkowo dodając tabulator na początku linii:\n",
    "\n",
    "1. Punkt 1\n",
    "    1. Punkt 1.1\n",
    "        1. Punkt 1.1.1\n",
    "            1. Punkt 1.1.1.1\n",
    "                1. Punkt 1.1.1.1.1\n",
    "2. Punkt 2"
   ]
  },
  {
   "cell_type": "code",
   "execution_count": 4,
   "metadata": {},
   "outputs": [],
   "source": [
    "# 1. Punkt 1\n",
    "# 2. Punkt 2\n",
    "# 3. Punkt 3\n",
    "\n",
    "#1. Punkt 1\n",
    "#    1. Punkt 1.1\n",
    "#        1. Punkt 1.1.1\n",
    "#            1. Punkt 1.1.1.1\n",
    "#                1. Punkt 1.1.1.1.1\n",
    "#2. Punkt 2"
   ]
  },
  {
   "cell_type": "markdown",
   "metadata": {},
   "source": [
    "## 5. Lista nienumerowana\n",
    "\n",
    "Listę numerowaną tworzy się poprzez wstawienie znaku \"\\*\" lub \"-\" na początku wiersza:\n",
    "\n",
    "* Punkt 1\n",
    "* Punkt 2\n",
    "* Punkt 3\n",
    "\n",
    "\n",
    "- Punkt 1\n",
    "- Punkt 2\n",
    "- Punkt 3"
   ]
  },
  {
   "cell_type": "code",
   "execution_count": null,
   "metadata": {},
   "outputs": [],
   "source": [
    "# * Punkt 1\n",
    "# * Punkt 2\n",
    "# * Punkt 3\n",
    "\n",
    "# - Punkt 1\n",
    "# - Punkt 2\n",
    "# - Punkt 3"
   ]
  },
  {
   "cell_type": "markdown",
   "metadata": {},
   "source": [
    "## 6. Wzory i formuły matematyczne\n",
    " \n",
    "Można wprowadzać wzory i formuły matematyczne używając składni języka TEX:\n",
    "\n",
    "Wzór: $y = f(x)$\n",
    "\n",
    "Tryb blokowy:\n",
    "$$ f(x) = \\sqrt{\\frac{2a}{b}} $$"
   ]
  },
  {
   "cell_type": "code",
   "execution_count": null,
   "metadata": {},
   "outputs": [],
   "source": [
    "# Wzór: $y = f(x)$\n",
    "# Tryb blokowy:\n",
    "# $$ f(x) = \\sqrt{\\frac{2a}{b}} $$"
   ]
  },
  {
   "cell_type": "markdown",
   "metadata": {},
   "source": [
    "## 7. Tabele\n",
    "\n",
    "Tabele tworzymy używając znaków \"\\|\" oraz \"-\"\n",
    "\n",
    "| Lp. | Produkt | Cena |\n",
    "|-----|---------|------|\n",
    "| 1.  | Krzesło | 100  |\n",
    "| 2.  | Stół    | 1000 |\n",
    "| 3.  | Szafka  | 300  |"
   ]
  },
  {
   "cell_type": "code",
   "execution_count": 6,
   "metadata": {},
   "outputs": [],
   "source": [
    "# | Lp. | Produkt | Cena |\n",
    "# |-----|---------|------|\n",
    "# | 1.  | Krzesło | 100  |\n",
    "# | 2.  | Stół    | 1000 |\n",
    "# | 3.  | Szafka  | 300  |"
   ]
  },
  {
   "cell_type": "markdown",
   "metadata": {},
   "source": [
    "## 8. Linki\n",
    "\n",
    "Linki wstawiamy używając nawiasów kwadratowych dla klikanego tekstu oraz nawiasów okrągłych dla linku:\n",
    "\n",
    "\\[Google\\](www.google.com)\n",
    "\n",
    "\n",
    "[Google](www.google.com)\n",
    "\n",
    "## 9. Obrazki\n",
    "\n",
    "Obrazki wstawiamy używając wykrzyknika, nawiasów kwadratowych dla nazwy alternatywnej oraz nawiasów okrągłych dla linku:\n",
    "\n",
    "\\!\\[Piłka\\](https://upload.wikimedia.org/wikipedia/commons/a/a5/Ball_icon.png)\n",
    "\n",
    "![Piłka](https://upload.wikimedia.org/wikipedia/commons/a/a5/Ball_icon.png)\n"
   ]
  }
 ],
 "metadata": {
  "kernelspec": {
   "display_name": "Python 3",
   "language": "python",
   "name": "python3"
  },
  "language_info": {
   "codemirror_mode": {
    "name": "ipython",
    "version": 3
   },
   "file_extension": ".py",
   "mimetype": "text/x-python",
   "name": "python",
   "nbconvert_exporter": "python",
   "pygments_lexer": "ipython3",
   "version": "3.7.1"
  }
 },
 "nbformat": 4,
 "nbformat_minor": 2
}
