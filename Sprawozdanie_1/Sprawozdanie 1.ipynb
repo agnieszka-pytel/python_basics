{
 "cells": [
  {
   "cell_type": "markdown",
   "metadata": {},
   "source": [
    "# Sprawozdanie 1"
   ]
  },
  {
   "cell_type": "markdown",
   "metadata": {},
   "source": [
    "## Zadanie 2.1\n",
    "#### Wiedząc, że pierwiastek n-tego stopnia z x równa się x do potęgi 1/n i wykorzystując wiedzę o użyciu liczb zespolonych w Pythonie, wylicz wartość pierwiastka drugiego stopnia z liczby -17."
   ]
  },
  {
   "cell_type": "code",
   "execution_count": 7,
   "metadata": {},
   "outputs": [
    {
     "name": "stdout",
     "output_type": "stream",
     "text": [
      "(2.5246740534795566e-16+4.123105625617661j)\n"
     ]
    }
   ],
   "source": [
    "result = complex((-17)**(1/2))\n",
    "print(result)"
   ]
  },
  {
   "cell_type": "markdown",
   "metadata": {},
   "source": [
    "## Zadanie 2.2\n",
    "#### Używając instrukcji Pythona oblicz resztę z dzielenia 17 przez 7 i zapamiętaj wynik w zmiennej o nazwie Z. Następnie, pojedynczym poleceniem Pythona i bez użycia nawiasów, przemnóż zmienną Z przez Z+3. "
   ]
  },
  {
   "cell_type": "code",
   "execution_count": 8,
   "metadata": {},
   "outputs": [
    {
     "name": "stdout",
     "output_type": "stream",
     "text": [
      "3\n",
      "18\n"
     ]
    }
   ],
   "source": [
    "z = 17%7\n",
    "print(z)\n",
    "z *= z+3\n",
    "print(z)"
   ]
  },
  {
   "cell_type": "markdown",
   "metadata": {},
   "source": [
    "## Zadanie 2.3\n",
    "#### Spowoduj pojedynczym poleceniem Pythona, by na ekranie 20-krotnie wyświetliła się wartość wyrażenia 1.2e+3+34.5 każdorazowo rozdzielona średnikiem."
   ]
  },
  {
   "cell_type": "code",
   "execution_count": 1,
   "metadata": {},
   "outputs": [
    {
     "name": "stdout",
     "output_type": "stream",
     "text": [
      "1234.5;1234.5;1234.5;1234.5;1234.5;1234.5;1234.5;1234.5;1234.5;1234.5;1234.5;1234.5;1234.5;1234.5;1234.5;1234.5;1234.5;1234.5;1234.5;1234.5;\n"
     ]
    }
   ],
   "source": [
    "result = 20*(str(1.2e+3+34.5)+\";\")\n",
    "print(result)"
   ]
  },
  {
   "cell_type": "markdown",
   "metadata": {},
   "source": [
    "## Zadanie 3.1\n",
    "##### Napisz program „powiel.py”, który wczyta od użytkownika pewien napis, a następnie wyświetli 30 kopii tego napisu, każda w osobnej linii."
   ]
  },
  {
   "cell_type": "code",
   "execution_count": 6,
   "metadata": {
    "scrolled": true
   },
   "outputs": [
    {
     "name": "stdout",
     "output_type": "stream",
     "text": [
      "Podaj napis:Napis testowy\n",
      "Napis testowy\n",
      "Napis testowy\n",
      "Napis testowy\n",
      "Napis testowy\n",
      "Napis testowy\n",
      "Napis testowy\n",
      "Napis testowy\n",
      "Napis testowy\n",
      "Napis testowy\n",
      "Napis testowy\n",
      "Napis testowy\n",
      "Napis testowy\n",
      "Napis testowy\n",
      "Napis testowy\n",
      "Napis testowy\n",
      "Napis testowy\n",
      "Napis testowy\n",
      "Napis testowy\n",
      "Napis testowy\n"
     ]
    }
   ],
   "source": [
    "text = input(\"Podaj napis:\")\n",
    "for i in range(1,20):\n",
    "    print (text)\n"
   ]
  },
  {
   "cell_type": "markdown",
   "metadata": {},
   "source": [
    "## Zadanie 3.2\n",
    "#### Napisz program ”pole_tr.py” który obliczy pole trójkąta, pod warunkiem że użytkownik poda wysokość i długość podstawy tego trójkąta. Uwzględnij, że wysokość i długość podstawy mogą być liczbami niecałkowitymi."
   ]
  },
  {
   "cell_type": "code",
   "execution_count": 4,
   "metadata": {},
   "outputs": [
    {
     "name": "stdout",
     "output_type": "stream",
     "text": [
      "Podaj długość podstawy trójkąta: 3.4\n",
      "Podaj wysokość trójkąta:2.3\n",
      "7.819999999999999\n"
     ]
    }
   ],
   "source": [
    "a = input(\"Podaj długość podstawy trójkąta: \")\n",
    "h = input(\"Podaj wysokość trójkąta:\")\n",
    "result = float(a)*float(h)\n",
    "print(result)"
   ]
  },
  {
   "cell_type": "markdown",
   "metadata": {},
   "source": [
    "## Zadanie 3.3\n",
    "#### Napisz program \"odsetki.py\", który obliczy stan konta za N lat, gdzie stan początkowy konta wynosi SPK, a stopa oprocentowania P % rocznie (obowiązuje miesięczna kapitalizacja odsetek). N, SPK i P podaje użytkownik programu."
   ]
  },
  {
   "cell_type": "code",
   "execution_count": 9,
   "metadata": {},
   "outputs": [
    {
     "name": "stdout",
     "output_type": "stream",
     "text": [
      "Podaj liczbę lat: 2\n",
      "Podaj stan początkowy konta: 1000\n",
      "Podaj roczną stopę oprocentowania w procentach: 4\n",
      "Stan konta za 2 lat przy stopie oprocentowania 4%  i początkowym stanie konta 1000  : 1083.1429591590663\n"
     ]
    }
   ],
   "source": [
    "N = input(\"Podaj liczbę lat: \")\n",
    "SPK = input(\"Podaj stan początkowy konta: \")\n",
    "P = input(\"Podaj roczną stopę oprocentowania w procentach: \")\n",
    "result = float(SPK)*(1+float(P)/100/12)**(12*float(N))\n",
    "print(\"Stan konta za\",N,\"lat przy stopie oprocentowania\",P+\"%\",\" i początkowym stanie konta\", SPK,\" :\", result)"
   ]
  },
  {
   "cell_type": "markdown",
   "metadata": {},
   "source": [
    "## Zadanie 4.1.\n",
    "#### Napisz program \"parzyste.py\", który wczyta od użytkownika liczbę całkowitą i wyświetli informację, czy jest to liczba parzysta, czy nieparzysta."
   ]
  },
  {
   "cell_type": "code",
   "execution_count": 1,
   "metadata": {},
   "outputs": [
    {
     "name": "stdout",
     "output_type": "stream",
     "text": [
      "Podaj liczbę całkowitą: 17\n",
      "Liczba 17 jest nieparzysta\n"
     ]
    }
   ],
   "source": [
    "liczba = input(\"Podaj liczbę całkowitą: \")\n",
    "if int(liczba) % 2 == 0:\n",
    "    print(\"Liczba\",liczba,\"jest parzysta\")\n",
    "else:\n",
    "    print(\"Liczba\",liczba,\"jest nieparzysta\")"
   ]
  },
  {
   "cell_type": "markdown",
   "metadata": {},
   "source": [
    "## Zadanie 4.2\n",
    "#### Napisz program \"calkowite.py”, który wczyta od użytkownika liczbę i wyświetli informację, czy jest to liczba całkowita, czy niecałkowita. "
   ]
  },
  {
   "cell_type": "code",
   "execution_count": 2,
   "metadata": {},
   "outputs": [
    {
     "name": "stdout",
     "output_type": "stream",
     "text": [
      "Podaj liczbę: 2\n",
      "Liczba 2 jest całkowita\n"
     ]
    }
   ],
   "source": [
    "from math import floor\n",
    "\n",
    "liczba = input(\"Podaj liczbę: \")\n",
    "if float(liczba) - floor(float(liczba)) == 0:\n",
    "    print(\"Liczba\",liczba,\"jest całkowita\")\n",
    "else:\n",
    "    print(\"Liczba\",liczba,\"nie jest całkowita\")"
   ]
  },
  {
   "cell_type": "markdown",
   "metadata": {},
   "source": [
    "## Zadanie 4.3\n",
    "#### Napisz program \"prk.py\", który obliczy wszystkie pierwiastki rzeczywiste równania kwadratowego o postaci ax2+bx+c=0, gdzie a, b i c podaje użytkownik. Program powinien na początku sprawdzić, czy wprowadzone równanie jest rzeczywiście kwadratowe."
   ]
  },
  {
   "cell_type": "markdown",
   "metadata": {},
   "source": [
    "Na potrzeby wyliczenia pierwiastków równania zaimportowano funkcję sqrt z biblioteki math."
   ]
  },
  {
   "cell_type": "code",
   "execution_count": 6,
   "metadata": {},
   "outputs": [],
   "source": [
    "from math import sqrt"
   ]
  },
  {
   "cell_type": "code",
   "execution_count": 2,
   "metadata": {
    "scrolled": true
   },
   "outputs": [
    {
     "name": "stdout",
     "output_type": "stream",
     "text": [
      "Postać równania kwadratowego: ax2 + bx + c = 0\n",
      "Podaj parametr a: 23\n",
      "Podaj parametr b: 3\n",
      "Podaj parametr c: 2\n",
      "Brak pierwiastków rzeczywistych\n"
     ]
    }
   ],
   "source": [
    "print(\"Postać równania kwadratowego: ax2 + bx + c = 0\")\n",
    "\n",
    "a = float(input(\"Podaj parametr a: \"))\n",
    "b = float(input(\"Podaj parametr b: \"))\n",
    "c = float(input(\"Podaj parametr c: \"))\n",
    "\n",
    "delta = b**2 - 4*a*c\n",
    "\n",
    "if delta < 0:\n",
    "    print (\"Brak pierwiastków rzeczywistych\")\n",
    "elif delta == 0:\n",
    "    x =  -b /( 2*a )\n",
    "    print(\"Podwójny pierwiastek równania to x =\",x)\n",
    "else:\n",
    "    x1 = ( -b - sqrt(delta) )/( 2*a )\n",
    "    x2 = ( -b + sqrt(delta) )/( 2*a )\n",
    "    print(\"Pierwiastki równania to: x1 =\",x1,\"oraz x2 =\",x2)"
   ]
  },
  {
   "cell_type": "markdown",
   "metadata": {},
   "source": [
    "## Zadanie 5.1.\n",
    "#### Napisz program \"parzyste2.py\", który wczyta od użytkownika liczbę całkowitą i bez użycia instrukcji if wyświetli informację, czy jest to liczba parzysta, czy nieparzysta. "
   ]
  },
  {
   "cell_type": "code",
   "execution_count": 5,
   "metadata": {},
   "outputs": [
    {
     "name": "stdout",
     "output_type": "stream",
     "text": [
      "Podaj liczbę całkowitą: 10\n",
      "Liczba jest parzysta\n"
     ]
    }
   ],
   "source": [
    "liczba = int(input(\"Podaj liczbę całkowitą: \"))\n",
    "print( {True: \"Liczba jest parzysta\", False: \"Liczba jest nieparzysta\"}[ liczba % 2 == 0] ) "
   ]
  },
  {
   "cell_type": "markdown",
   "metadata": {},
   "source": [
    "## Zadanie 5.2.\n",
    "#### Napisz program \"numer.py\", który zamieni wprowadzony przez użytkownika ciąg cyfr na formę tekstową: \n",
    "1. znaki nie będące cyframi mają być ignorowane \n",
    "2. konwertujemy cyfry, nie liczby, a zatem: \n",
    "    1. 911 to \"dziewięć jeden jeden\" \n",
    "    2. 1100 to \"jeden jeden zero zero\" "
   ]
  },
  {
   "cell_type": "markdown",
   "metadata": {},
   "source": [
    "Pierwszym krokiem jest stworzenie słownika zawierającego klucze (poszczególne cyfry) i wartości (odpowiadające cyfrom nazwy)."
   ]
  },
  {
   "cell_type": "code",
   "execution_count": 11,
   "metadata": {},
   "outputs": [],
   "source": [
    "dict = {\n",
    "    0 : \"zero\", 1 : \"jeden\", 2 : \"dwa\", 3 : \"trzy\", 4 : \"cztery\", 5 : \"pięć\", \n",
    "    6 : \"sześć\", 7 : \"siedem\", 8 : \"osiem\", 9 : \"dziewięć\"\n",
    "}"
   ]
  },
  {
   "cell_type": "markdown",
   "metadata": {},
   "source": [
    "Następnie należy pobrać od użytkownika ciąg cyfr i przekształcić je na słowa:"
   ]
  },
  {
   "cell_type": "code",
   "execution_count": 12,
   "metadata": {},
   "outputs": [
    {
     "name": "stdout",
     "output_type": "stream",
     "text": [
      "Podaj ciąg cyfr. Znaki inne niż cyfry będą ignorowane: krfmju347yewgsdbh cxbw2\n"
     ]
    }
   ],
   "source": [
    "liczba = input(\"Podaj ciąg cyfr. Znaki inne niż cyfry będą ignorowane: \")"
   ]
  },
  {
   "cell_type": "markdown",
   "metadata": {},
   "source": [
    "W celu sprawdzenia, czy dany znak jest cyfrą, sprawdza się jego kod ASCII. Powinien należeć do zakresu < 48, 57 >"
   ]
  },
  {
   "cell_type": "code",
   "execution_count": 13,
   "metadata": {},
   "outputs": [
    {
     "name": "stdout",
     "output_type": "stream",
     "text": [
      "trzy cztery siedem dwa \n"
     ]
    }
   ],
   "source": [
    "wynik = \"\"\n",
    "for znak in liczba:\n",
    "    if ( 48 <= ord(znak) <= 57):\n",
    "        wynik += dict[int(znak)] + \" \"\n",
    "print(wynik)"
   ]
  }
 ],
 "metadata": {
  "kernelspec": {
   "display_name": "Python 3",
   "language": "python",
   "name": "python3"
  },
  "language_info": {
   "codemirror_mode": {
    "name": "ipython",
    "version": 3
   },
   "file_extension": ".py",
   "mimetype": "text/x-python",
   "name": "python",
   "nbconvert_exporter": "python",
   "pygments_lexer": "ipython3",
   "version": "3.7.1"
  }
 },
 "nbformat": 4,
 "nbformat_minor": 2
}
