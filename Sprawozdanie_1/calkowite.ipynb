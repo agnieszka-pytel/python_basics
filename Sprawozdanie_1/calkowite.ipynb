{
 "cells": [
  {
   "cell_type": "markdown",
   "metadata": {},
   "source": [
    "# Zadanie 4.2\n",
    "#### Napisz program \"calkowite.py”, który wczyta od użytkownika liczbę i wyświetli informację, czy jest to liczba całkowita, czy niecałkowita. "
   ]
  },
  {
   "cell_type": "code",
   "execution_count": 2,
   "metadata": {},
   "outputs": [
    {
     "name": "stdout",
     "output_type": "stream",
     "text": [
      "Podaj liczbę: 2\n",
      "Liczba 2 jest całkowita\n"
     ]
    }
   ],
   "source": [
    "from math import floor\n",
    "\n",
    "liczba = input(\"Podaj liczbę: \")\n",
    "if float(liczba) - floor(float(liczba)) == 0:\n",
    "    print(\"Liczba\",liczba,\"jest całkowita\")\n",
    "else:\n",
    "    print(\"Liczba\",liczba,\"nie jest całkowita\")"
   ]
  }
 ],
 "metadata": {
  "kernelspec": {
   "display_name": "Python 3",
   "language": "python",
   "name": "python3"
  },
  "language_info": {
   "codemirror_mode": {
    "name": "ipython",
    "version": 3
   },
   "file_extension": ".py",
   "mimetype": "text/x-python",
   "name": "python",
   "nbconvert_exporter": "python",
   "pygments_lexer": "ipython3",
   "version": "3.7.1"
  }
 },
 "nbformat": 4,
 "nbformat_minor": 2
}
