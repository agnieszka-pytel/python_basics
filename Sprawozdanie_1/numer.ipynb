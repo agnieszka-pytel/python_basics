{
 "cells": [
  {
   "cell_type": "markdown",
   "metadata": {},
   "source": [
    "# Zadanie 5.2.\n",
    "#### Napisz program \"numer.py\", który zamieni wprowadzony przez użytkownika ciąg cyfr na formę tekstową: \n",
    "1. znaki nie będące cyframi mają być ignorowane \n",
    "2. konwertujemy cyfry, nie liczby, a zatem: \n",
    "    1. 911 to \"dziewięć jeden jeden\" \n",
    "    2. 1100 to \"jeden jeden zero zero\" "
   ]
  },
  {
   "cell_type": "markdown",
   "metadata": {},
   "source": [
    "Pierwszym krokiem jest stworzenie słownika zawierającego klucze (poszczególne cyfry) i wartości (odpowiadające cyfrom nazwy)."
   ]
  },
  {
   "cell_type": "code",
   "execution_count": 11,
   "metadata": {},
   "outputs": [],
   "source": [
    "dict = {\n",
    "    0 : \"zero\", 1 : \"jeden\", 2 : \"dwa\", 3 : \"trzy\", 4 : \"cztery\", 5 : \"pięć\", \n",
    "    6 : \"sześć\", 7 : \"siedem\", 8 : \"osiem\", 9 : \"dziewięć\"\n",
    "}"
   ]
  },
  {
   "cell_type": "markdown",
   "metadata": {},
   "source": [
    "Następnie należy pobrać od użytkownika ciąg cyfr i przekształcić je na słowa:"
   ]
  },
  {
   "cell_type": "code",
   "execution_count": 12,
   "metadata": {},
   "outputs": [
    {
     "name": "stdout",
     "output_type": "stream",
     "text": [
      "Podaj ciąg cyfr. Znaki inne niż cyfry będą ignorowane: krfmju347yewgsdbh cxbw2\n"
     ]
    }
   ],
   "source": [
    "liczba = input(\"Podaj ciąg cyfr. Znaki inne niż cyfry będą ignorowane: \")"
   ]
  },
  {
   "cell_type": "markdown",
   "metadata": {},
   "source": [
    "W celu sprawdzenia, czy dany znak jest cyfrą, sprawdza się jego kod ASCII. Powinien należeć do zakresu < 48, 57 >"
   ]
  },
  {
   "cell_type": "code",
   "execution_count": 13,
   "metadata": {},
   "outputs": [
    {
     "name": "stdout",
     "output_type": "stream",
     "text": [
      "trzy cztery siedem dwa \n"
     ]
    }
   ],
   "source": [
    "wynik = \"\"\n",
    "for znak in liczba:\n",
    "    if ( 48 <= ord(znak) <= 57):\n",
    "        wynik += dict[int(znak)] + \" \"\n",
    "print(wynik)"
   ]
  }
 ],
 "metadata": {
  "kernelspec": {
   "display_name": "Python 3",
   "language": "python",
   "name": "python3"
  },
  "language_info": {
   "codemirror_mode": {
    "name": "ipython",
    "version": 3
   },
   "file_extension": ".py",
   "mimetype": "text/x-python",
   "name": "python",
   "nbconvert_exporter": "python",
   "pygments_lexer": "ipython3",
   "version": "3.7.1"
  }
 },
 "nbformat": 4,
 "nbformat_minor": 2
}
