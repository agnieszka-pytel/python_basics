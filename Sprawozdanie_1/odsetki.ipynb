{
 "cells": [
  {
   "cell_type": "markdown",
   "metadata": {},
   "source": [
    "# Zadanie 3.3\n",
    "#### Napisz program \"odsetki.py\", który obliczy stan konta za N lat, gdzie stan początkowy konta wynosi SPK, a stopa oprocentowania P % rocznie (obowiązuje miesięczna kapitalizacja odsetek). N, SPK i P podaje użytkownik programu."
   ]
  },
  {
   "cell_type": "code",
   "execution_count": 9,
   "metadata": {},
   "outputs": [
    {
     "name": "stdout",
     "output_type": "stream",
     "text": [
      "Podaj liczbę lat: 2\n",
      "Podaj stan początkowy konta: 1000\n",
      "Podaj roczną stopę oprocentowania w procentach: 4\n",
      "Stan konta za 2 lat przy stopie oprocentowania 4%  i początkowym stanie konta 1000  : 1083.1429591590663\n"
     ]
    }
   ],
   "source": [
    "N = input(\"Podaj liczbę lat: \")\n",
    "SPK = input(\"Podaj stan początkowy konta: \")\n",
    "P = input(\"Podaj roczną stopę oprocentowania w procentach: \")\n",
    "result = float(SPK)*(1+float(P)/100/12)**(12*float(N))\n",
    "print(\"Stan konta za\",N,\"lat przy stopie oprocentowania\",P+\"%\",\" i początkowym stanie konta\", SPK,\" :\", result)"
   ]
  }
 ],
 "metadata": {
  "kernelspec": {
   "display_name": "Python 3",
   "language": "python",
   "name": "python3"
  },
  "language_info": {
   "codemirror_mode": {
    "name": "ipython",
    "version": 3
   },
   "file_extension": ".py",
   "mimetype": "text/x-python",
   "name": "python",
   "nbconvert_exporter": "python",
   "pygments_lexer": "ipython3",
   "version": "3.7.1"
  }
 },
 "nbformat": 4,
 "nbformat_minor": 2
}
