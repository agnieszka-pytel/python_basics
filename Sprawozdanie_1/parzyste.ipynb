{
 "cells": [
  {
   "cell_type": "markdown",
   "metadata": {},
   "source": [
    "# Zadanie 4.1.\n",
    "#### Napisz program \"parzyste.py\", który wczyta od użytkownika liczbę całkowitą i wyświetli informację, czy jest to liczba parzysta, czy nieparzysta."
   ]
  },
  {
   "cell_type": "code",
   "execution_count": 1,
   "metadata": {},
   "outputs": [
    {
     "name": "stdout",
     "output_type": "stream",
     "text": [
      "Podaj liczbę całkowitą: 17\n",
      "Liczba 17 jest nieparzysta\n"
     ]
    }
   ],
   "source": [
    "liczba = input(\"Podaj liczbę całkowitą: \")\n",
    "if int(liczba) % 2 == 0:\n",
    "    print(\"Liczba\",liczba,\"jest parzysta\")\n",
    "else:\n",
    "    print(\"Liczba\",liczba,\"jest nieparzysta\")"
   ]
  }
 ],
 "metadata": {
  "kernelspec": {
   "display_name": "Python 3",
   "language": "python",
   "name": "python3"
  },
  "language_info": {
   "codemirror_mode": {
    "name": "ipython",
    "version": 3
   },
   "file_extension": ".py",
   "mimetype": "text/x-python",
   "name": "python",
   "nbconvert_exporter": "python",
   "pygments_lexer": "ipython3",
   "version": "3.7.1"
  }
 },
 "nbformat": 4,
 "nbformat_minor": 2
}
