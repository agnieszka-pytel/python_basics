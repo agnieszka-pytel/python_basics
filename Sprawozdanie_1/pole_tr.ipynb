{
 "cells": [
  {
   "cell_type": "markdown",
   "metadata": {},
   "source": [
    "# Zadanie 3.2\n",
    "#### Napisz program ”pole_tr.py” który obliczy pole trójkąta, pod warunkiem że użytkownik poda wysokość i długość podstawy tego trójkąta. Uwzględnij, że wysokość i długość podstawy mogą być liczbami niecałkowitymi."
   ]
  },
  {
   "cell_type": "code",
   "execution_count": 4,
   "metadata": {},
   "outputs": [
    {
     "name": "stdout",
     "output_type": "stream",
     "text": [
      "Podaj długość podstawy trójkąta: 3.4\n",
      "Podaj wysokość trójkąta:2.3\n",
      "7.819999999999999\n"
     ]
    }
   ],
   "source": [
    "a = input(\"Podaj długość podstawy trójkąta: \")\n",
    "h = input(\"Podaj wysokość trójkąta:\")\n",
    "result = float(a)*float(h)\n",
    "print(result)"
   ]
  }
 ],
 "metadata": {
  "kernelspec": {
   "display_name": "Python 3",
   "language": "python",
   "name": "python3"
  },
  "language_info": {
   "codemirror_mode": {
    "name": "ipython",
    "version": 3
   },
   "file_extension": ".py",
   "mimetype": "text/x-python",
   "name": "python",
   "nbconvert_exporter": "python",
   "pygments_lexer": "ipython3",
   "version": "3.7.1"
  }
 },
 "nbformat": 4,
 "nbformat_minor": 2
}
