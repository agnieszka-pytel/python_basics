{
 "cells": [
  {
   "cell_type": "markdown",
   "metadata": {},
   "source": [
    "# Zadanie 3.1\n",
    "##### Napisz program „powiel.py”, który wczyta od użytkownika pewien napis, a następnie wyświetli 30 kopii tego napisu, każda w osobnej linii."
   ]
  },
  {
   "cell_type": "code",
   "execution_count": 6,
   "metadata": {},
   "outputs": [
    {
     "name": "stdout",
     "output_type": "stream",
     "text": [
      "Podaj napis:Napis testowy\n",
      "Napis testowy\n",
      "Napis testowy\n",
      "Napis testowy\n",
      "Napis testowy\n",
      "Napis testowy\n",
      "Napis testowy\n",
      "Napis testowy\n",
      "Napis testowy\n",
      "Napis testowy\n",
      "Napis testowy\n",
      "Napis testowy\n",
      "Napis testowy\n",
      "Napis testowy\n",
      "Napis testowy\n",
      "Napis testowy\n",
      "Napis testowy\n",
      "Napis testowy\n",
      "Napis testowy\n",
      "Napis testowy\n"
     ]
    }
   ],
   "source": [
    "text = input(\"Podaj napis:\")\n",
    "for i in range(1,20):\n",
    "    print (text)\n"
   ]
  }
 ],
 "metadata": {
  "kernelspec": {
   "display_name": "Python 3",
   "language": "python",
   "name": "python3"
  },
  "language_info": {
   "codemirror_mode": {
    "name": "ipython",
    "version": 3
   },
   "file_extension": ".py",
   "mimetype": "text/x-python",
   "name": "python",
   "nbconvert_exporter": "python",
   "pygments_lexer": "ipython3",
   "version": "3.7.1"
  }
 },
 "nbformat": 4,
 "nbformat_minor": 2
}
