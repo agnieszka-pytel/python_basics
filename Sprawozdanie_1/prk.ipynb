{
 "cells": [
  {
   "cell_type": "markdown",
   "metadata": {},
   "source": [
    "# Zadanie 4.3\n",
    "#### Napisz program \"prk.py\", który obliczy wszystkie pierwiastki rzeczywiste równania kwadratowego o postaci ax2+bx+c=0, gdzie a, b i c podaje użytkownik. Program powinien na początku sprawdzić, czy wprowadzone równanie jest rzeczywiście kwadratowe."
   ]
  },
  {
   "cell_type": "markdown",
   "metadata": {},
   "source": [
    "Na potrzeby wyliczenia pierwiastków równania zaimportowano funkcję sqrt z biblioteki math."
   ]
  },
  {
   "cell_type": "code",
   "execution_count": 6,
   "metadata": {},
   "outputs": [],
   "source": [
    "from math import sqrt"
   ]
  },
  {
   "cell_type": "code",
   "execution_count": 2,
   "metadata": {},
   "outputs": [
    {
     "name": "stdout",
     "output_type": "stream",
     "text": [
      "Postać równania kwadratowego: ax2 + bx + c = 0\n",
      "Podaj parametr a: 23\n",
      "Podaj parametr b: 3\n",
      "Podaj parametr c: 2\n",
      "Brak pierwiastków rzeczywistych\n"
     ]
    }
   ],
   "source": [
    "print(\"Postać równania kwadratowego: ax2 + bx + c = 0\")\n",
    "\n",
    "a = float(input(\"Podaj parametr a: \"))\n",
    "b = float(input(\"Podaj parametr b: \"))\n",
    "c = float(input(\"Podaj parametr c: \"))\n",
    "\n",
    "delta = b**2 - 4*a*c\n",
    "\n",
    "if delta < 0:\n",
    "    print (\"Brak pierwiastków rzeczywistych\")\n",
    "elif delta == 0:\n",
    "    x =  -b /( 2*a )\n",
    "    print(\"Podwójny pierwiastek równania to x =\",x)\n",
    "else:\n",
    "    x1 = ( -b - sqrt(delta) )/( 2*a )\n",
    "    x2 = ( -b + sqrt(delta) )/( 2*a )\n",
    "    print(\"Pierwiastki równania to: x1 =\",x1,\"oraz x2 =\",x2)"
   ]
  }
 ],
 "metadata": {
  "kernelspec": {
   "display_name": "Python 3",
   "language": "python",
   "name": "python3"
  },
  "language_info": {
   "codemirror_mode": {
    "name": "ipython",
    "version": 3
   },
   "file_extension": ".py",
   "mimetype": "text/x-python",
   "name": "python",
   "nbconvert_exporter": "python",
   "pygments_lexer": "ipython3",
   "version": "3.7.1"
  }
 },
 "nbformat": 4,
 "nbformat_minor": 2
}
