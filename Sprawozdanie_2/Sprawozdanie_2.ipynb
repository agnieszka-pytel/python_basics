{
 "cells": [
  {
   "cell_type": "markdown",
   "metadata": {},
   "source": [
    "# Sprawozdanie 2"
   ]
  },
  {
   "cell_type": "markdown",
   "metadata": {},
   "source": [
    "##  Zadanie 6.1.\n",
    "#### Woda zamarza przy 32 stopniach Fahrenheita, a wrze przy 212 stopniach Fahrenheita. Napisz program „stopnie.py”, który wyświetli tabelę przeliczeń stopni Celsjusza na stopnie Fahrenheita w zakresie od –20 do +40 stopni Celsjusza (co 5 stopni). Pamiętaj o wyświetlaniu znaku plus/minus przy temperaturze. "
   ]
  },
  {
   "cell_type": "code",
   "execution_count": 12,
   "metadata": {
    "scrolled": true
   },
   "outputs": [
    {
     "name": "stdout",
     "output_type": "stream",
     "text": [
      "|   C   |   F   |\n",
      "-----------------\n",
      "|   -20 |    -4 |\n",
      "|   -15 |    +5 |\n",
      "|   -10 |   +14 |\n",
      "|    -5 |   +23 |\n",
      "|    +0 |   +32 |\n",
      "|    +5 |   +41 |\n",
      "|   +10 |   +50 |\n",
      "|   +15 |   +59 |\n",
      "|   +20 |   +68 |\n",
      "|   +25 |   +77 |\n",
      "|   +30 |   +86 |\n",
      "|   +35 |   +95 |\n",
      "|   +40 |  +104 |\n"
     ]
    }
   ],
   "source": [
    "print (\"|   C   |   F   |\")\n",
    "print (\"-----------------\")\n",
    "\n",
    "for temp in range(-20,41,5):\n",
    "    print(\"| %+5i | %+5i |\" % (temp, temp*1.8 + 32))"
   ]
  },
  {
   "cell_type": "markdown",
   "metadata": {},
   "source": [
    "## Zadanie 6.2.\n",
    "#### Napisz program „oceny.py”, który wczytuje od użytkownika kolejne oceny i: \n",
    "1. **sprawdza czy wprowadzona ocena jest na liście dopuszczalnych na wydziale ocen , jeżeli ocena jest na liście dopuszczalnych na wydziale ocen, dodaje ją na listę otrzymanych ocen**\n",
    "2. **jeżeli wciśnięto sam Enter, oznacza to koniec listy otrzymanych ocen** \n",
    "3. **wyświetla wyliczoną dla listy otrzymanych ocen średnią arytmetyczną.**"
   ]
  },
  {
   "cell_type": "markdown",
   "metadata": {},
   "source": [
    "Pierwszym krokiem jest stworzenie listy dopuszczalnych ocen oraz inicjalizacja listy ocen danego studenta:"
   ]
  },
  {
   "cell_type": "code",
   "execution_count": 30,
   "metadata": {
    "scrolled": true
   },
   "outputs": [
    {
     "name": "stdout",
     "output_type": "stream",
     "text": [
      "Podaj ocenę: 2\n",
      "Podaj ocenę: 3\n",
      "Podaj ocenę: 3.5\n",
      "Podaj ocenę: 4\n",
      "Podaj ocenę: 0\n",
      "Podaj ocenę: 1\n",
      "Podaj ocenę: 80\n",
      "Podaj ocenę: \n",
      "Oceny: [2.0, 3.0, 3.5, 4.0]\n",
      "Średnia ocen wynosi: 3.12\n"
     ]
    }
   ],
   "source": [
    "dopuszczalne = (2,3,3.5,4,4.5,5)\n",
    "oceny = []\n",
    "\n",
    "ocena = input(\"Podaj ocenę: \")\n",
    "while len(ocena) != 0:\n",
    "    if float(ocena) in dopuszczalne: oceny.append(float(ocena))\n",
    "    ocena = input(\"Podaj ocenę: \")\n",
    "print(\"Oceny:\",oceny)\n",
    "print(\"Średnia ocen wynosi: %0.2f\" % (sum(oceny)/len(oceny)))"
   ]
  },
  {
   "cell_type": "markdown",
   "metadata": {},
   "source": [
    "## Zadanie 7.1.\n",
    "#### Napisz program \"tryg.py\", który wczyta od użytkownika wielkość kąta w stopniach i wyświetli wartość czterech podstawowych funkcji trygonometrycznych (sin, cos, tg, ctg) o ile dla danego kąta jest to możliwe. "
   ]
  },
  {
   "cell_type": "code",
   "execution_count": 53,
   "metadata": {},
   "outputs": [
    {
     "name": "stdout",
     "output_type": "stream",
     "text": [
      "Podaj miarę kąta w stopniach: 90\n",
      "Wartości funkcji trygonometrycznych dla podanego kąta:\n",
      "sin = 1.00\n",
      "cos = 0.00\n",
      "tg - nie da się określić\n",
      "ctg = 0.00\n"
     ]
    }
   ],
   "source": [
    "a = input(\"Podaj miarę kąta w stopniach: \")\n",
    "a = int(a)\n",
    "\n",
    "from math import sin, cos, tan, radians\n",
    "\n",
    "r = radians(a)\n",
    "\n",
    "sin = sin(r)\n",
    "cos = cos(r)\n",
    "\n",
    "print (\"Wartości funkcji trygonometrycznych dla podanego kąta:\\nsin = %0.2f\\ncos = %0.2f\" % (sin, cos))\n",
    "\n",
    "if (a - 90) % 180 == 0:\n",
    "    print(\"tg - nie da się określić\")\n",
    "    print(\"ctg = %0.2f\" % (cos/sin))\n",
    "elif a % 180 == 0:\n",
    "    print(\"tg = %0.2f\" % (tan(r)))\n",
    "    print(\"ctg - nie da się określić\")\n",
    "else:\n",
    "    print(\"tg = %0.2f\" % (tan(r)))\n",
    "    print(\"ctg = %0.2f\" % (cos/sin))"
   ]
  },
  {
   "cell_type": "markdown",
   "metadata": {},
   "source": [
    "## Zadanie 7.2.\n",
    "#### Napisz program \"lotto.py\", który wyświetli 6 losowych i nie powtarzających się liczb z zakresu od 1 do 49."
   ]
  },
  {
   "cell_type": "code",
   "execution_count": 1,
   "metadata": {},
   "outputs": [
    {
     "name": "stdout",
     "output_type": "stream",
     "text": [
      "[32, 13, 39, 23, 19, 8]\n"
     ]
    }
   ],
   "source": [
    "from random import randint\n",
    "\n",
    "lotto = []\n",
    "\n",
    "while len(lotto) < 6:\n",
    "    liczba = randint(1,49)\n",
    "    if liczba not in lotto: lotto.append(liczba)\n",
    "print(lotto)"
   ]
  },
  {
   "cell_type": "markdown",
   "metadata": {},
   "source": [
    "## Zadanie 7.3.\n",
    "#### Napisz program \"wyrazy.py\", który wczyta od użytkownika pewien tekst, a następnie podzieli go na zdania (zakładamy, że jednoznacznie kropka rozdziela zdania) i dla każdego zdania wyświetli ile jest w nim wyrazów (zakładamy, że spacja oddziela wyrazy w zdaniu)."
   ]
  },
  {
   "cell_type": "code",
   "execution_count": 6,
   "metadata": {},
   "outputs": [
    {
     "name": "stdout",
     "output_type": "stream",
     "text": [
      "Podaj tekst: Ala ma kota. Wielkiego, ogromnego, puszystego i białego kota. A kot Ali ma psa.\n"
     ]
    }
   ],
   "source": [
    "tekst = input(\"Podaj tekst: \")"
   ]
  },
  {
   "cell_type": "code",
   "execution_count": 7,
   "metadata": {},
   "outputs": [
    {
     "name": "stdout",
     "output_type": "stream",
     "text": [
      "\n",
      "Zdanie: Ala ma kota. \n",
      "Liczba wyrazów: 3\n",
      "\n",
      "Zdanie: Wielkiego, ogromnego, puszystego i białego kota. \n",
      "Liczba wyrazów: 6\n",
      "\n",
      "Zdanie: A kot Ali ma psa. \n",
      "Liczba wyrazów: 5\n"
     ]
    }
   ],
   "source": [
    "zdania = tekst.strip().split(\".\")\n",
    "zdania = [zdanie.strip() for zdanie in zdania]\n",
    "\n",
    "for zdanie in zdania:\n",
    "    if len(zdanie) == 0: zdania.remove(zdanie)\n",
    "        \n",
    "if len(zdania) == 0:\n",
    "    print(\"Nie wprowadzono żadnego tekstu lub zdania nie są zakończone kropkami.\")\n",
    "\n",
    "wynik = dict.fromkeys(zdania,1)\n",
    "\n",
    "for zdanie, wyrazy in wynik.items():\n",
    "    for wyraz in zdanie:\n",
    "        if wyraz == \" \": wyrazy += 1\n",
    "    print(\"\\nZdanie:\",zdanie+\".\",\"\\nLiczba wyrazów:\",wyrazy)\n",
    "    "
   ]
  },
  {
   "cell_type": "markdown",
   "metadata": {},
   "source": [
    "\n"
   ]
  }
 ],
 "metadata": {
  "kernelspec": {
   "display_name": "Python 3",
   "language": "python",
   "name": "python3"
  },
  "language_info": {
   "codemirror_mode": {
    "name": "ipython",
    "version": 3
   },
   "file_extension": ".py",
   "mimetype": "text/x-python",
   "name": "python",
   "nbconvert_exporter": "python",
   "pygments_lexer": "ipython3",
   "version": "3.7.1"
  }
 },
 "nbformat": 4,
 "nbformat_minor": 2
}
