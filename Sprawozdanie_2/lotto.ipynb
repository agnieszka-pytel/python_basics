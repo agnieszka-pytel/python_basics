{
 "cells": [
  {
   "cell_type": "markdown",
   "metadata": {},
   "source": [
    "## Zadanie 7.2.\n",
    "#### Napisz program \"lotto.py\", który wyświetli 6 losowych i nie powtarzających się liczb z zakresu od 1 do 49."
   ]
  },
  {
   "cell_type": "code",
   "execution_count": 1,
   "metadata": {},
   "outputs": [
    {
     "name": "stdout",
     "output_type": "stream",
     "text": [
      "[32, 13, 39, 23, 19, 8]\n"
     ]
    }
   ],
   "source": [
    "from random import randint\n",
    "\n",
    "lotto = []\n",
    "\n",
    "while len(lotto) < 6:\n",
    "    liczba = randint(1,49)\n",
    "    if liczba not in lotto: lotto.append(liczba)\n",
    "print(lotto)"
   ]
  }
 ],
 "metadata": {
  "kernelspec": {
   "display_name": "Python 3",
   "language": "python",
   "name": "python3"
  },
  "language_info": {
   "codemirror_mode": {
    "name": "ipython",
    "version": 3
   },
   "file_extension": ".py",
   "mimetype": "text/x-python",
   "name": "python",
   "nbconvert_exporter": "python",
   "pygments_lexer": "ipython3",
   "version": "3.7.1"
  }
 },
 "nbformat": 4,
 "nbformat_minor": 2
}
