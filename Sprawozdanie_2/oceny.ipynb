{
 "cells": [
  {
   "cell_type": "markdown",
   "metadata": {},
   "source": [
    "## Zadanie 6.2.\n",
    "#### Napisz program „oceny.py”, który wczytuje od użytkownika kolejne oceny i: \n",
    "1. **sprawdza czy wprowadzona ocena jest na liście dopuszczalnych na wydziale ocen , jeżeli ocena jest na liście dopuszczalnych na wydziale ocen, dodaje ją na listę otrzymanych ocen**\n",
    "2. **jeżeli wciśnięto sam Enter, oznacza to koniec listy otrzymanych ocen** \n",
    "3. **wyświetla wyliczoną dla listy otrzymanych ocen średnią arytmetyczną.**"
   ]
  },
  {
   "cell_type": "markdown",
   "metadata": {},
   "source": [
    "Pierwszym krokiem jest stworzenie listy dopuszczalnych ocen oraz inicjalizacja listy ocen danego studenta:"
   ]
  },
  {
   "cell_type": "code",
   "execution_count": 30,
   "metadata": {},
   "outputs": [
    {
     "name": "stdout",
     "output_type": "stream",
     "text": [
      "Podaj ocenę: 2\n",
      "Podaj ocenę: 3\n",
      "Podaj ocenę: 3.5\n",
      "Podaj ocenę: 4\n",
      "Podaj ocenę: 0\n",
      "Podaj ocenę: 1\n",
      "Podaj ocenę: 80\n",
      "Podaj ocenę: \n",
      "Oceny: [2.0, 3.0, 3.5, 4.0]\n",
      "Średnia ocen wynosi: 3.12\n"
     ]
    }
   ],
   "source": [
    "dopuszczalne = (2,3,3.5,4,4.5,5)\n",
    "oceny = []\n",
    "\n",
    "ocena = input(\"Podaj ocenę: \")\n",
    "while len(ocena) != 0:\n",
    "    if float(ocena) in dopuszczalne: oceny.append(float(ocena))\n",
    "    ocena = input(\"Podaj ocenę: \")\n",
    "print(\"Oceny:\",oceny)\n",
    "print(\"Średnia ocen wynosi: %0.2f\" % (sum(oceny)/len(oceny)))"
   ]
  }
 ],
 "metadata": {
  "kernelspec": {
   "display_name": "Python 3",
   "language": "python",
   "name": "python3"
  },
  "language_info": {
   "codemirror_mode": {
    "name": "ipython",
    "version": 3
   },
   "file_extension": ".py",
   "mimetype": "text/x-python",
   "name": "python",
   "nbconvert_exporter": "python",
   "pygments_lexer": "ipython3",
   "version": "3.7.1"
  }
 },
 "nbformat": 4,
 "nbformat_minor": 2
}
