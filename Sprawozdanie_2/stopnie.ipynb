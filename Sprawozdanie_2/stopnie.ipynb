{
 "cells": [
  {
   "cell_type": "markdown",
   "metadata": {},
   "source": [
    "##  Zadanie 6.1.\n",
    "#### Woda zamarza przy 32 stopniach Fahrenheita, a wrze przy 212 stopniach Fahrenheita. Napisz program „stopnie.py”, który wyświetli tabelę przeliczeń stopni Celsjusza na stopnie Fahrenheita w zakresie od –20 do +40 stopni Celsjusza (co 5 stopni). Pamiętaj o wyświetlaniu znaku plus/minus przy temperaturze. "
   ]
  },
  {
   "cell_type": "code",
   "execution_count": 12,
   "metadata": {},
   "outputs": [
    {
     "name": "stdout",
     "output_type": "stream",
     "text": [
      "|   C   |   F   |\n",
      "-----------------\n",
      "|   -20 |    -4 |\n",
      "|   -15 |    +5 |\n",
      "|   -10 |   +14 |\n",
      "|    -5 |   +23 |\n",
      "|    +0 |   +32 |\n",
      "|    +5 |   +41 |\n",
      "|   +10 |   +50 |\n",
      "|   +15 |   +59 |\n",
      "|   +20 |   +68 |\n",
      "|   +25 |   +77 |\n",
      "|   +30 |   +86 |\n",
      "|   +35 |   +95 |\n",
      "|   +40 |  +104 |\n"
     ]
    }
   ],
   "source": [
    "print (\"|   C   |   F   |\")\n",
    "print (\"-----------------\")\n",
    "\n",
    "for temp in range(-20,41,5):\n",
    "    print(\"| %+5i | %+5i |\" % (temp, temp*1.8 + 32))"
   ]
  }
 ],
 "metadata": {
  "kernelspec": {
   "display_name": "Python 3",
   "language": "python",
   "name": "python3"
  },
  "language_info": {
   "codemirror_mode": {
    "name": "ipython",
    "version": 3
   },
   "file_extension": ".py",
   "mimetype": "text/x-python",
   "name": "python",
   "nbconvert_exporter": "python",
   "pygments_lexer": "ipython3",
   "version": "3.7.1"
  }
 },
 "nbformat": 4,
 "nbformat_minor": 2
}
