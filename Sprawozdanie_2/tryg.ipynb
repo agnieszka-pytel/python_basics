{
 "cells": [
  {
   "cell_type": "markdown",
   "metadata": {},
   "source": [
    "## Zadanie 7.1.\n",
    "#### Napisz program \"tryg.py\", który wczyta od użytkownika wielkość kąta w stopniach i wyświetli wartość czterech podstawowych funkcji trygonometrycznych (sin, cos, tg, ctg) o ile dla danego kąta jest to możliwe. "
   ]
  },
  {
   "cell_type": "code",
   "execution_count": 53,
   "metadata": {},
   "outputs": [
    {
     "name": "stdout",
     "output_type": "stream",
     "text": [
      "Podaj miarę kąta w stopniach: 90\n",
      "Wartości funkcji trygonometrycznych dla podanego kąta:\n",
      "sin = 1.00\n",
      "cos = 0.00\n",
      "tg - nie da się określić\n",
      "ctg = 0.00\n"
     ]
    }
   ],
   "source": [
    "a = input(\"Podaj miarę kąta w stopniach: \")\n",
    "a = int(a)\n",
    "\n",
    "from math import sin, cos, tan, radians\n",
    "\n",
    "r = radians(a)\n",
    "\n",
    "sin = sin(r)\n",
    "cos = cos(r)\n",
    "\n",
    "print (\"Wartości funkcji trygonometrycznych dla podanego kąta:\\nsin = %0.2f\\ncos = %0.2f\" % (sin, cos))\n",
    "\n",
    "if (a - 90) % 180 == 0:\n",
    "    print(\"tg - nie da się określić\")\n",
    "    print(\"ctg = %0.2f\" % (cos/sin))\n",
    "elif a % 180 == 0:\n",
    "    print(\"tg = %0.2f\" % (tan(r)))\n",
    "    print(\"ctg - nie da się określić\")\n",
    "else:\n",
    "    print(\"tg = %0.2f\" % (tan(r)))\n",
    "    print(\"ctg = %0.2f\" % (cos/sin))"
   ]
  }
 ],
 "metadata": {
  "kernelspec": {
   "display_name": "Python 3",
   "language": "python",
   "name": "python3"
  },
  "language_info": {
   "codemirror_mode": {
    "name": "ipython",
    "version": 3
   },
   "file_extension": ".py",
   "mimetype": "text/x-python",
   "name": "python",
   "nbconvert_exporter": "python",
   "pygments_lexer": "ipython3",
   "version": "3.7.1"
  }
 },
 "nbformat": 4,
 "nbformat_minor": 2
}
