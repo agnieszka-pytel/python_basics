{
 "cells": [
  {
   "cell_type": "markdown",
   "metadata": {},
   "source": [
    "## Zadanie 7.3.\n",
    "#### Napisz program \"wyrazy.py\", który wczyta od użytkownika pewien tekst, a następnie podzieli go na zdania (zakładamy, że jednoznacznie kropka rozdziela zdania) i dla każdego zdania wyświetli ile jest w nim wyrazów (zakładamy, że spacja oddziela wyrazy w zdaniu)."
   ]
  },
  {
   "cell_type": "code",
   "execution_count": 6,
   "metadata": {},
   "outputs": [
    {
     "name": "stdout",
     "output_type": "stream",
     "text": [
      "Podaj tekst: Ala ma kota. Wielkiego, ogromnego, puszystego i białego kota. A kot Ali ma psa.\n"
     ]
    }
   ],
   "source": [
    "tekst = input(\"Podaj tekst: \")"
   ]
  },
  {
   "cell_type": "code",
   "execution_count": 7,
   "metadata": {},
   "outputs": [
    {
     "name": "stdout",
     "output_type": "stream",
     "text": [
      "\n",
      "Zdanie: Ala ma kota. \n",
      "Liczba wyrazów: 3\n",
      "\n",
      "Zdanie: Wielkiego, ogromnego, puszystego i białego kota. \n",
      "Liczba wyrazów: 6\n",
      "\n",
      "Zdanie: A kot Ali ma psa. \n",
      "Liczba wyrazów: 5\n"
     ]
    }
   ],
   "source": [
    "zdania = tekst.strip().split(\".\")\n",
    "zdania = [zdanie.strip() for zdanie in zdania]\n",
    "\n",
    "for zdanie in zdania:\n",
    "    if len(zdanie) == 0: zdania.remove(zdanie)\n",
    "        \n",
    "if len(zdania) == 0:\n",
    "    print(\"Nie wprowadzono żadnego tekstu lub zdania nie są zakończone kropkami.\")\n",
    "\n",
    "wynik = dict.fromkeys(zdania,1)\n",
    "\n",
    "for zdanie, wyrazy in wynik.items():\n",
    "    for wyraz in zdanie:\n",
    "        if wyraz == \" \": wyrazy += 1\n",
    "    print(\"\\nZdanie:\",zdanie+\".\",\"\\nLiczba wyrazów:\",wyrazy)\n",
    "    "
   ]
  }
 ],
 "metadata": {
  "kernelspec": {
   "display_name": "Python 3",
   "language": "python",
   "name": "python3"
  },
  "language_info": {
   "codemirror_mode": {
    "name": "ipython",
    "version": 3
   },
   "file_extension": ".py",
   "mimetype": "text/x-python",
   "name": "python",
   "nbconvert_exporter": "python",
   "pygments_lexer": "ipython3",
   "version": "3.7.1"
  }
 },
 "nbformat": 4,
 "nbformat_minor": 2
}
