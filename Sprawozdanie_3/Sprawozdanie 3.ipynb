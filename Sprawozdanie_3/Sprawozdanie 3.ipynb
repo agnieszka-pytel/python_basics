{
 "cells": [
  {
   "cell_type": "markdown",
   "metadata": {},
   "source": [
    "## Zadanie 8.1.\n",
    "#### Zdefiniuj funkcję \"geo\", która dla podanych trzech parametrów: n=numer elementu ciągu, a1=wartość pierwszego elementu ciągu (domyślnie 1), q=wartość iloczynu ciągu geometrycznego (domyślnie 2) zwróci n-ty element ciągu geometrycznego."
   ]
  },
  {
   "cell_type": "code",
   "execution_count": 9,
   "metadata": {},
   "outputs": [
    {
     "name": "stdout",
     "output_type": "stream",
     "text": [
      "1\n",
      "2\n",
      "16\n"
     ]
    }
   ],
   "source": [
    "def geo (n = 1, a1 = 1, q = 2):\n",
    "    return a1*(q**(n-1))\n",
    "\n",
    "print(geo())\n",
    "print(geo(2,1,2))\n",
    "print(geo(5,1,2))"
   ]
  },
  {
   "cell_type": "markdown",
   "metadata": {},
   "source": [
    "## Zadanie 8.2.\n",
    "#### Zdefiniuj funkcję \"avg\", która dla dowolnej liczby parametrów zwróci ich średnią arytmetyczną (lub 0 dla 0 parametrów)."
   ]
  },
  {
   "cell_type": "code",
   "execution_count": 14,
   "metadata": {},
   "outputs": [
    {
     "name": "stdout",
     "output_type": "stream",
     "text": [
      "3.75\n",
      "6.0\n",
      "0\n"
     ]
    }
   ],
   "source": [
    "def avg (*params):\n",
    "    return sum(params)/len(params) if len(params) != 0 else 0\n",
    "    \n",
    "print(avg(2,3,4,6))\n",
    "print(avg(4,8))\n",
    "print(avg())"
   ]
  },
  {
   "cell_type": "markdown",
   "metadata": {},
   "source": [
    "##  Zadanie 9.1.\n",
    "#### Napisz program „liczby_slownie2.py”, który dla wprowadzonej liczby dziesiętnej (z zakresu 1-1999) wyświetli jej wartość zapisaną słownie. "
   ]
  },
  {
   "cell_type": "code",
   "execution_count": 1,
   "metadata": {},
   "outputs": [],
   "source": [
    "jednosci = { \n",
    "    1: 'jeden', 2: 'dwa', 3: 'trzy', 4: 'cztery', 5: 'pięć', \n",
    "    6: 'sześć', 7: 'siedem', 8: 'osiem', 9: 'dziewięć' \n",
    "}\n",
    "\n",
    "kilkanascie = { \n",
    "    10: 'dziesięć', 11: 'jedenaście', 12: 'dwanaście', 13: 'trzynaście', 14: 'czternaście', \n",
    "    15: 'piętnaście', 16: 'szesnaście', 17: 'siedemnaście', 18: 'osiemnaście', 19: 'dziewiętnaście'\n",
    "}\n",
    "\n",
    "dziesiatki = { \n",
    "    2: 'dwadzieścia', 3: 'trzydzieści', 4: 'czterdzieści', 5: 'pięćdziesiąt', \n",
    "    6: 'sześćdziesiąt', 7: 'siedemdziesiąt', 8: 'osiemdziesiąt', 9: 'dziewięćdziesiąt'\n",
    "}\n",
    "\n",
    "setki = { \n",
    "    1: 'sto', 2: 'dwieście', 3: 'trzysta', 4: 'czterysta', 5: 'pięćset',\n",
    "    6: 'sześćset', 7: 'siedemset', 8: 'osiemset', 9: 'dziewięćset'\n",
    "}\n",
    "\n",
    "tysiace = { 1 : 'tysiac' }"
   ]
  },
  {
   "cell_type": "code",
   "execution_count": 2,
   "metadata": {},
   "outputs": [],
   "source": [
    "def wczytaj ():\n",
    "    liczba = int(input(\"Podaj liczbę z zakresu 1-1999: \"))\n",
    "\n",
    "    while liczba < 1 or liczba > 1999:\n",
    "       liczba = int(input(\"Liczba spoza zakresu. Podaj liczbę z zakresu 1-1999: \"))\n",
    "    return liczba"
   ]
  },
  {
   "cell_type": "code",
   "execution_count": 19,
   "metadata": {},
   "outputs": [],
   "source": [
    "def nazwij (liczba):\n",
    "    slownie = \"\"\n",
    "\n",
    "    j = liczba%10\n",
    "    d = liczba%100\n",
    "    s = liczba%1000\n",
    "    \n",
    "    if j != 0:\n",
    "        if d in kilkanascie: slownie += kilkanascie[d]\n",
    "        else: slownie += jednosci[j]\n",
    "\n",
    "    if (d//10 != 0 and d//10 != 1): slownie = dziesiatki[d//10] + \" \" + slownie\n",
    "        \n",
    "    if (s//100 != 0): slownie = setki[s//100] + \" \" + slownie\n",
    "        \n",
    "    if (liczba//1000 != 0): slownie = tysiace[liczba//1000] + \" \" + slownie   \n",
    "    \n",
    "    return slownie"
   ]
  },
  {
   "cell_type": "code",
   "execution_count": 22,
   "metadata": {},
   "outputs": [
    {
     "name": "stdout",
     "output_type": "stream",
     "text": [
      "sześć\n",
      "piętnaście\n",
      "osiemdziesiąt siedem\n",
      "sto \n",
      "tysiac pięć\n",
      "tysiac dwieście czterdzieści sześć \n",
      "\n",
      "Podaj liczbę z zakresu 1-1999: 234\n",
      "dwieście trzydzieści cztery\n"
     ]
    }
   ],
   "source": [
    "print(nazwij(6))\n",
    "print(nazwij(15))\n",
    "print(nazwij(87))\n",
    "print(nazwij(100))\n",
    "print(nazwij(1005))\n",
    "print(nazwij(1246),\"\\n\")\n",
    "\n",
    "liczba = wczytaj ()\n",
    "print(nazwij(liczba))"
   ]
  },
  {
   "cell_type": "markdown",
   "metadata": {},
   "source": [
    "## Zadanie 9.2.\n",
    "#### Napisz program „liczby_rzymskie2.py”, który przeliczy wprowadzoną liczbę rzymską na jej postać dziesiętną. "
   ]
  },
  {
   "cell_type": "code",
   "execution_count": 61,
   "metadata": {},
   "outputs": [],
   "source": [
    "rzymskie_wyjatki = { 'CM': 900, 'CD': 400, 'XC': 90, 'XL': 40, 'IX': 9, 'IV' : 4 }\n",
    "rzymskie_zwykle = { 'M' : 1000, 'D' : 500, 'C' : 100, 'L' : 50, 'X' : 10, 'V' : 5, 'I' : 1 }"
   ]
  },
  {
   "cell_type": "code",
   "execution_count": 5,
   "metadata": {},
   "outputs": [],
   "source": [
    "def wczytaj ():\n",
    "    rzymska = input(\"Podaj liczbę rzymską: \")\n",
    "    return rzymska"
   ]
  },
  {
   "cell_type": "code",
   "execution_count": 58,
   "metadata": {},
   "outputs": [],
   "source": [
    "def przelicz (rzymska):\n",
    "    for litery, wartosci in rzymskie_wyjatki.items():\n",
    "        rzymska = rzymska.replace(litery,str(wartosci)+\" \")\n",
    "    for litery, wartosci in rzymskie_zwykle.items():\n",
    "        rzymska = rzymska.replace(litery,str(wartosci)+\" \")\n",
    "    lista = rzymska.strip().split(\" \")\n",
    "    liczba = 0\n",
    "    for element in lista:\n",
    "        liczba += int(element.strip())\n",
    "    return liczba"
   ]
  },
  {
   "cell_type": "code",
   "execution_count": 59,
   "metadata": {
    "scrolled": true
   },
   "outputs": [
    {
     "name": "stdout",
     "output_type": "stream",
     "text": [
      "Podaj liczbę rzymską: MMCMXLVIII\n"
     ]
    }
   ],
   "source": [
    "rzymska = wczytaj()"
   ]
  },
  {
   "cell_type": "code",
   "execution_count": 60,
   "metadata": {},
   "outputs": [
    {
     "name": "stdout",
     "output_type": "stream",
     "text": [
      "Podana liczba rzymska: MMCMXLVIII\n",
      "Liczba arabska: 2948\n"
     ]
    }
   ],
   "source": [
    "print(\"Podana liczba rzymska:\",rzymska)\n",
    "print(\"Liczba arabska:\",przelicz(rzymska))"
   ]
  },
  {
   "cell_type": "markdown",
   "metadata": {},
   "source": [
    "\n"
   ]
  }
 ],
 "metadata": {
  "kernelspec": {
   "display_name": "Python 3",
   "language": "python",
   "name": "python3"
  },
  "language_info": {
   "codemirror_mode": {
    "name": "ipython",
    "version": 3
   },
   "file_extension": ".py",
   "mimetype": "text/x-python",
   "name": "python",
   "nbconvert_exporter": "python",
   "pygments_lexer": "ipython3",
   "version": "3.7.1"
  }
 },
 "nbformat": 4,
 "nbformat_minor": 2
}
