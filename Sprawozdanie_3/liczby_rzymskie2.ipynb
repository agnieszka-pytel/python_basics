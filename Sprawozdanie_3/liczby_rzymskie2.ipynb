{
 "cells": [
  {
   "cell_type": "markdown",
   "metadata": {},
   "source": [
    "## Zadanie 9.2.\n",
    "#### Napisz program „liczby_rzymskie2.py”, który przeliczy wprowadzoną liczbę rzymską na jej postać dziesiętną. "
   ]
  },
  {
   "cell_type": "code",
   "execution_count": 61,
   "metadata": {},
   "outputs": [],
   "source": [
    "rzymskie_wyjatki = { 'CM': 900, 'CD': 400, 'XC': 90, 'XL': 40, 'IX': 9, 'IV' : 4 }\n",
    "rzymskie_zwykle = { 'M' : 1000, 'D' : 500, 'C' : 100, 'L' : 50, 'X' : 10, 'V' : 5, 'I' : 1 }"
   ]
  },
  {
   "cell_type": "code",
   "execution_count": 5,
   "metadata": {},
   "outputs": [],
   "source": [
    "def wczytaj ():\n",
    "    rzymska = input(\"Podaj liczbę rzymską: \")\n",
    "    return rzymska"
   ]
  },
  {
   "cell_type": "code",
   "execution_count": 58,
   "metadata": {},
   "outputs": [],
   "source": [
    "def przelicz (rzymska):\n",
    "    for litery, wartosci in rzymskie_wyjatki.items():\n",
    "        rzymska = rzymska.replace(litery,str(wartosci)+\" \")\n",
    "    for litery, wartosci in rzymskie_zwykle.items():\n",
    "        rzymska = rzymska.replace(litery,str(wartosci)+\" \")\n",
    "    lista = rzymska.strip().split(\" \")\n",
    "    liczba = 0\n",
    "    for element in lista:\n",
    "        liczba += int(element.strip())\n",
    "    return liczba"
   ]
  },
  {
   "cell_type": "code",
   "execution_count": 59,
   "metadata": {},
   "outputs": [
    {
     "name": "stdout",
     "output_type": "stream",
     "text": [
      "Podaj liczbę rzymską: MMCMXLVIII\n"
     ]
    }
   ],
   "source": [
    "rzymska = wczytaj()"
   ]
  },
  {
   "cell_type": "code",
   "execution_count": 60,
   "metadata": {},
   "outputs": [
    {
     "name": "stdout",
     "output_type": "stream",
     "text": [
      "Podana liczba rzymska: MMCMXLVIII\n",
      "Liczba arabska: 2948\n"
     ]
    }
   ],
   "source": [
    "print(\"Podana liczba rzymska:\",rzymska)\n",
    "print(\"Liczba arabska:\",przelicz(rzymska))"
   ]
  }
 ],
 "metadata": {
  "kernelspec": {
   "display_name": "Python 3",
   "language": "python",
   "name": "python3"
  },
  "language_info": {
   "codemirror_mode": {
    "name": "ipython",
    "version": 3
   },
   "file_extension": ".py",
   "mimetype": "text/x-python",
   "name": "python",
   "nbconvert_exporter": "python",
   "pygments_lexer": "ipython3",
   "version": "3.7.1"
  }
 },
 "nbformat": 4,
 "nbformat_minor": 2
}
