{
 "cells": [
  {
   "cell_type": "markdown",
   "metadata": {},
   "source": [
    "##  Zadanie 9.1.\n",
    "#### Napisz program „liczby_slownie2.py”, który dla wprowadzonej liczby dziesiętnej (z zakresu 1-1999) wyświetli jej wartość zapisaną słownie. "
   ]
  },
  {
   "cell_type": "code",
   "execution_count": 1,
   "metadata": {},
   "outputs": [],
   "source": [
    "jednosci = { \n",
    "    1: 'jeden', 2: 'dwa', 3: 'trzy', 4: 'cztery', 5: 'pięć', \n",
    "    6: 'sześć', 7: 'siedem', 8: 'osiem', 9: 'dziewięć' \n",
    "}\n",
    "\n",
    "kilkanascie = { \n",
    "    10: 'dziesięć', 11: 'jedenaście', 12: 'dwanaście', 13: 'trzynaście', 14: 'czternaście', \n",
    "    15: 'piętnaście', 16: 'szesnaście', 17: 'siedemnaście', 18: 'osiemnaście', 19: 'dziewiętnaście'\n",
    "}\n",
    "\n",
    "dziesiatki = { \n",
    "    2: 'dwadzieścia', 3: 'trzydzieści', 4: 'czterdzieści', 5: 'pięćdziesiąt', \n",
    "    6: 'sześćdziesiąt', 7: 'siedemdziesiąt', 8: 'osiemdziesiąt', 9: 'dziewięćdziesiąt'\n",
    "}\n",
    "\n",
    "setki = { \n",
    "    1: 'sto', 2: 'dwieście', 3: 'trzysta', 4: 'czterysta', 5: 'pięćset',\n",
    "    6: 'sześćset', 7: 'siedemset', 8: 'osiemset', 9: 'dziewięćset'\n",
    "}\n",
    "\n",
    "tysiace = { 1 : 'tysiac' }"
   ]
  },
  {
   "cell_type": "code",
   "execution_count": 2,
   "metadata": {},
   "outputs": [],
   "source": [
    "def wczytaj ():\n",
    "    liczba = int(input(\"Podaj liczbę z zakresu 1-1999: \"))\n",
    "\n",
    "    while liczba < 1 or liczba > 1999:\n",
    "       liczba = int(input(\"Liczba spoza zakresu. Podaj liczbę z zakresu 1-1999: \"))\n",
    "    return liczba"
   ]
  },
  {
   "cell_type": "code",
   "execution_count": 19,
   "metadata": {},
   "outputs": [],
   "source": [
    "def nazwij (liczba):\n",
    "    slownie = \"\"\n",
    "\n",
    "    j = liczba%10\n",
    "    d = liczba%100\n",
    "    s = liczba%1000\n",
    "    \n",
    "    if j != 0:\n",
    "        if d in kilkanascie: slownie += kilkanascie[d]\n",
    "        else: slownie += jednosci[j]\n",
    "\n",
    "    if (d//10 != 0 and d//10 != 1): slownie = dziesiatki[d//10] + \" \" + slownie\n",
    "        \n",
    "    if (s//100 != 0): slownie = setki[s//100] + \" \" + slownie\n",
    "        \n",
    "    if (liczba//1000 != 0): slownie = tysiace[liczba//1000] + \" \" + slownie   \n",
    "    \n",
    "    return slownie"
   ]
  },
  {
   "cell_type": "code",
   "execution_count": 22,
   "metadata": {},
   "outputs": [
    {
     "name": "stdout",
     "output_type": "stream",
     "text": [
      "sześć\n",
      "piętnaście\n",
      "osiemdziesiąt siedem\n",
      "sto \n",
      "tysiac pięć\n",
      "tysiac dwieście czterdzieści sześć \n",
      "\n",
      "Podaj liczbę z zakresu 1-1999: 234\n",
      "dwieście trzydzieści cztery\n"
     ]
    }
   ],
   "source": [
    "print(nazwij(6))\n",
    "print(nazwij(15))\n",
    "print(nazwij(87))\n",
    "print(nazwij(100))\n",
    "print(nazwij(1005))\n",
    "print(nazwij(1246),\"\\n\")\n",
    "\n",
    "liczba = wczytaj ()\n",
    "print(nazwij(liczba))"
   ]
  }
 ],
 "metadata": {
  "kernelspec": {
   "display_name": "Python 3",
   "language": "python",
   "name": "python3"
  },
  "language_info": {
   "codemirror_mode": {
    "name": "ipython",
    "version": 3
   },
   "file_extension": ".py",
   "mimetype": "text/x-python",
   "name": "python",
   "nbconvert_exporter": "python",
   "pygments_lexer": "ipython3",
   "version": "3.7.1"
  }
 },
 "nbformat": 4,
 "nbformat_minor": 2
}
