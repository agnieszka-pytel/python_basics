{
 "cells": [
  {
   "cell_type": "markdown",
   "metadata": {},
   "source": [
    "# Sprawozdanie 4"
   ]
  },
  {
   "cell_type": "markdown",
   "metadata": {},
   "source": [
    "## Zadanie 10.1.\n",
    "#### Zmień program „lotto” w taki sposób, by wyświetlał wylosowane liczby od najmniejszej do największej."
   ]
  },
  {
   "cell_type": "code",
   "execution_count": 14,
   "metadata": {},
   "outputs": [
    {
     "name": "stdout",
     "output_type": "stream",
     "text": [
      "4 19 27 35 38 43 "
     ]
    }
   ],
   "source": [
    "from random import choice \n",
    "wylosowane = set() \n",
    "while len(wylosowane) < 6: \n",
    "    wylosowane.add(choice(range(1,50))) \n",
    "for liczba in sorted(wylosowane):\n",
    "    print(liczba, end = \" \")"
   ]
  },
  {
   "cell_type": "markdown",
   "metadata": {},
   "source": [
    "##  Zadanie 10.2.\n",
    "#### Zmień program „lista studentów” w taki sposób, by dodatkowo obliczał średnią ocen wszystkich studentów. "
   ]
  },
  {
   "cell_type": "code",
   "execution_count": 4,
   "metadata": {},
   "outputs": [
    {
     "name": "stdout",
     "output_type": "stream",
     "text": [
      "Podaj nazwisko studenta nr 1 (ENTER=koniec): Pytel\n",
      "Podaj imię studenta nr 1 > Agnieszka\n",
      "Podaj ocenę studenta nr 1 > 5\n",
      "Podaj nazwisko studenta nr 2 (ENTER=koniec): Kowalski\n",
      "Podaj imię studenta nr 2 > Jan\n",
      "Podaj ocenę studenta nr 2 > 4.5\n",
      "Podaj nazwisko studenta nr 3 (ENTER=koniec): Nowak\n",
      "Podaj imię studenta nr 3 > Adam\n",
      "Podaj ocenę studenta nr 3 > 4\n",
      "Podaj nazwisko studenta nr 4 (ENTER=koniec): \n",
      "L.p. Nazwisko       Imię         Ocena\n",
      "  1. Pytel          Agnieszka      5.0\n",
      "  2. Kowalski       Jan            4.5\n",
      "  3. Nowak          Adam           4.0\n",
      "\n",
      " Średnia ocen wszystkich studentów: 4.50\n"
     ]
    }
   ],
   "source": [
    "class Student: \n",
    "    imie=\"\" \n",
    "    nazwisko=\"\" \n",
    "    ocena=0.0 \n",
    "studenci = [] \n",
    "nr = 0 \n",
    "while True: \n",
    "    naz=input('Podaj nazwisko studenta nr %i (ENTER=koniec): ' % (nr+1)) \n",
    "    if not naz: break \n",
    "    studenci.append(Student()) \n",
    "    studenci[nr].nazwisko = naz \n",
    "    studenci[nr].imie = input('Podaj imię studenta nr %i > ' % (nr+1)) \n",
    "    studenci[nr].ocena = float(input('Podaj ocenę studenta nr %i > ' % (nr+1))) \n",
    "    nr += 1 \n",
    "\n",
    "print( \"%-4s %-14s %-10s %7s\" % (\"L.p.\",\"Nazwisko\",\"Imię\",\"Ocena\"))\n",
    "suma = 0 \n",
    "for s in studenci: \n",
    "    print(\"%3i. %-14s %-10s %7.1f\" % (studenci.index(s)+1,s.nazwisko, s.imie, s.ocena))\n",
    "    suma += s.ocena\n",
    "\n",
    "print(\"\\n Średnia ocen wszystkich studentów: %0.2f\" % (suma/len(studenci)))"
   ]
  },
  {
   "cell_type": "markdown",
   "metadata": {},
   "source": [
    "## Zadanie 11.1.\n",
    "#### Używając wytwornika zbuduj listę zawierającą wszystkie liczby podzielne przez 3 z zakresu od 1 do 33. Następnie: \n",
    "- **Używając funkcji filter usuń z niej wszystkie liczby parzyste**\n",
    "- **Używając wyrażenia lambda i funkcji map podnieś wszystkie elementy tak otrzymanej listy do sześcianu**\n",
    "- **Odpowiednio używając funkcji reduce i len oblicz średnią arytmetyczną z elementów tak otrzymanej listy.**\n"
   ]
  },
  {
   "cell_type": "code",
   "execution_count": 1,
   "metadata": {},
   "outputs": [
    {
     "name": "stdout",
     "output_type": "stream",
     "text": [
      "[3, 6, 9, 12, 15, 18, 21, 24, 27, 30, 33]\n",
      "[3, 6, 9, 12, 15, 18, 21, 24, 27, 30, 33]\n"
     ]
    }
   ],
   "source": [
    "podzielne = [ x for x in range(1,34) if x % 3 == 0]\n",
    "podzielne2 = [ 3*x for x in range(1,12) ]\n",
    "print(podzielne)\n",
    "print(podzielne2)"
   ]
  },
  {
   "cell_type": "code",
   "execution_count": 2,
   "metadata": {},
   "outputs": [
    {
     "name": "stdout",
     "output_type": "stream",
     "text": [
      "[3, 9, 15, 21, 27, 33]\n"
     ]
    }
   ],
   "source": [
    "nieparzyste = list(filter(lambda x: x % 2 != 0, podzielne))\n",
    "print(nieparzyste)"
   ]
  },
  {
   "cell_type": "code",
   "execution_count": 4,
   "metadata": {},
   "outputs": [
    {
     "name": "stdout",
     "output_type": "stream",
     "text": [
      "[27, 729, 3375, 9261, 19683, 35937]\n"
     ]
    }
   ],
   "source": [
    "szesciany = list(map(lambda x: x**3, nieparzyste))\n",
    "print(szesciany)"
   ]
  },
  {
   "cell_type": "code",
   "execution_count": 5,
   "metadata": {},
   "outputs": [
    {
     "name": "stdout",
     "output_type": "stream",
     "text": [
      "11502.0\n"
     ]
    }
   ],
   "source": [
    "from functools import reduce\n",
    "srednia = reduce(lambda x, y: x + y, szesciany)/len(szesciany)\n",
    "print(srednia)"
   ]
  },
  {
   "cell_type": "markdown",
   "metadata": {},
   "source": [
    "## Zadanie 11.2.\n",
    "#### Stwórz trzy listy zawierające po 5 elementów: nazwiska – z nazwiskami pracowników, godziny – z liczbą przepracowanych godzin, stawka – ze stawką w złotych za godzinę pracy. Wykorzystując funkcje zip, map, reduce i filter (oraz, ewentualnie, wytworniki list) wyświetl nazwiska i wypłaty (iloczyn stawki godzinowej i liczby przepracowanych godzin) tych pracowników, którzy zarobili więcej, niż wyniosła średnia wypłata. \n"
   ]
  },
  {
   "cell_type": "code",
   "execution_count": 38,
   "metadata": {},
   "outputs": [],
   "source": [
    "nazwiska = ['Nowak','Kowalski','Polak','Wójcik','Wiśniewski']\n",
    "godziny = [36,40,38,20,36]\n",
    "stawka = [14.7,16,22,45,30]"
   ]
  },
  {
   "cell_type": "code",
   "execution_count": 65,
   "metadata": {},
   "outputs": [
    {
     "name": "stdout",
     "output_type": "stream",
     "text": [
      "Średnia 797.04\n",
      "Polak: 836 zł\n",
      "Wójcik: 900 zł\n",
      "Wiśniewski: 1080 zł\n"
     ]
    }
   ],
   "source": [
    "wyplaty = list(map(lambda x, y: x*y, godziny, stawka))\n",
    "srednia = reduce(lambda x, y: x + y, wyplaty)/len(wyplaty)\n",
    "print(\"Średnia\",srednia)\n",
    "\n",
    "wiecej_niz_srednia = list(filter(lambda x: x[1] > srednia, list(zip(nazwiska,wyplaty))))\n",
    "print(*[x[0]+\": \"+str(x[1])+\" zł\" for x in wiecej_niz_srednia], sep = \"\\n\")"
   ]
  }
 ],
 "metadata": {
  "kernelspec": {
   "display_name": "Python 3",
   "language": "python",
   "name": "python3"
  },
  "language_info": {
   "codemirror_mode": {
    "name": "ipython",
    "version": 3
   },
   "file_extension": ".py",
   "mimetype": "text/x-python",
   "name": "python",
   "nbconvert_exporter": "python",
   "pygments_lexer": "ipython3",
   "version": "3.7.1"
  }
 },
 "nbformat": 4,
 "nbformat_minor": 2
}
