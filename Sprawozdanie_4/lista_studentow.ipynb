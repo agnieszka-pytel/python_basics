{
 "cells": [
  {
   "cell_type": "markdown",
   "metadata": {},
   "source": [
    "##  Zadanie 10.2.\n",
    "#### Zmień program „lista studentów” w taki sposób, by dodatkowo obliczał średnią ocen wszystkich studentów. "
   ]
  },
  {
   "cell_type": "code",
   "execution_count": 4,
   "metadata": {},
   "outputs": [
    {
     "name": "stdout",
     "output_type": "stream",
     "text": [
      "Podaj nazwisko studenta nr 1 (ENTER=koniec): Pytel\n",
      "Podaj imię studenta nr 1 > Agnieszka\n",
      "Podaj ocenę studenta nr 1 > 5\n",
      "Podaj nazwisko studenta nr 2 (ENTER=koniec): Kowalski\n",
      "Podaj imię studenta nr 2 > Jan\n",
      "Podaj ocenę studenta nr 2 > 4.5\n",
      "Podaj nazwisko studenta nr 3 (ENTER=koniec): Nowak\n",
      "Podaj imię studenta nr 3 > Adam\n",
      "Podaj ocenę studenta nr 3 > 4\n",
      "Podaj nazwisko studenta nr 4 (ENTER=koniec): \n",
      "L.p. Nazwisko       Imię         Ocena\n",
      "  1. Pytel          Agnieszka      5.0\n",
      "  2. Kowalski       Jan            4.5\n",
      "  3. Nowak          Adam           4.0\n",
      "\n",
      " Średnia ocen wszystkich studentów: 4.50\n"
     ]
    }
   ],
   "source": [
    "class Student: \n",
    "    imie=\"\" \n",
    "    nazwisko=\"\" \n",
    "    ocena=0.0 \n",
    "studenci = [] \n",
    "nr = 0 \n",
    "while True: \n",
    "    naz=input('Podaj nazwisko studenta nr %i (ENTER=koniec): ' % (nr+1)) \n",
    "    if not naz: break \n",
    "    studenci.append(Student()) \n",
    "    studenci[nr].nazwisko = naz \n",
    "    studenci[nr].imie = input('Podaj imię studenta nr %i > ' % (nr+1)) \n",
    "    studenci[nr].ocena = float(input('Podaj ocenę studenta nr %i > ' % (nr+1))) \n",
    "    nr += 1 \n",
    "\n",
    "print( \"%-4s %-14s %-10s %7s\" % (\"L.p.\",\"Nazwisko\",\"Imię\",\"Ocena\"))\n",
    "suma = 0 \n",
    "for s in studenci: \n",
    "    print(\"%3i. %-14s %-10s %7.1f\" % (studenci.index(s)+1,s.nazwisko, s.imie, s.ocena))\n",
    "    suma += s.ocena\n",
    "\n",
    "print(\"\\n Średnia ocen wszystkich studentów: %0.2f\" % (suma/len(studenci)))"
   ]
  }
 ],
 "metadata": {
  "kernelspec": {
   "display_name": "Python 3",
   "language": "python",
   "name": "python3"
  },
  "language_info": {
   "codemirror_mode": {
    "name": "ipython",
    "version": 3
   },
   "file_extension": ".py",
   "mimetype": "text/x-python",
   "name": "python",
   "nbconvert_exporter": "python",
   "pygments_lexer": "ipython3",
   "version": "3.7.1"
  }
 },
 "nbformat": 4,
 "nbformat_minor": 2
}
