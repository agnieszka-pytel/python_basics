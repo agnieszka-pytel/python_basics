{
 "cells": [
  {
   "cell_type": "markdown",
   "metadata": {},
   "source": [
    "## Zadanie 10.1.\n",
    "#### Zmień program „lotto” w taki sposób, by wyświetlał wylosowane liczby od najmniejszej do największej."
   ]
  },
  {
   "cell_type": "code",
   "execution_count": 14,
   "metadata": {},
   "outputs": [
    {
     "name": "stdout",
     "output_type": "stream",
     "text": [
      "4 19 27 35 38 43 "
     ]
    }
   ],
   "source": [
    "from random import choice \n",
    "wylosowane = set() \n",
    "while len(wylosowane) < 6: \n",
    "    wylosowane.add(choice(range(1,50))) \n",
    "for liczba in sorted(wylosowane):\n",
    "    print(liczba, end = \" \")"
   ]
  }
 ],
 "metadata": {
  "kernelspec": {
   "display_name": "Python 3",
   "language": "python",
   "name": "python3"
  },
  "language_info": {
   "codemirror_mode": {
    "name": "ipython",
    "version": 3
   },
   "file_extension": ".py",
   "mimetype": "text/x-python",
   "name": "python",
   "nbconvert_exporter": "python",
   "pygments_lexer": "ipython3",
   "version": "3.7.1"
  }
 },
 "nbformat": 4,
 "nbformat_minor": 2
}
