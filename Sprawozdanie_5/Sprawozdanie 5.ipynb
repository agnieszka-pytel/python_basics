{
 "cells": [
  {
   "cell_type": "markdown",
   "metadata": {},
   "source": [
    "# Sprawozdanie 5"
   ]
  },
  {
   "cell_type": "markdown",
   "metadata": {},
   "source": [
    "## Zadanie 12.1.\n",
    "#### Napisz program „type.py”, który wyświetli na ekranie zawartość pliku o nazwie podanej przez użytkownika. "
   ]
  },
  {
   "cell_type": "code",
   "execution_count": 20,
   "metadata": {},
   "outputs": [
    {
     "name": "stdout",
     "output_type": "stream",
     "text": [
      "Podaj dokładną ścieżkę do pliku: /home/agnieszka/Dokumenty/IiE sem 3/PiADwJP/test.txt\n",
      "\n",
      "Lorem ipsum dolor sit amet, consectetur adipiscing elit. Donec porttitor semper augue et sodales. Duis magna metus, facilisis et dui vel, finibus congue nibh. Ut id ligula scelerisque, semper dolor tincidunt, mollis justo. Duis fermentum convallis sapien, at congue metus facilisis lobortis. \n",
      "\n",
      "Ut faucibus nisl turpis, ut sodales libero venenatis sit amet. Orci varius natoque penatibus et magnis dis parturient montes, nascetur ridiculus mus. Vivamus ac sapien vestibulum, euismod lorem non, fringilla est. \n",
      "\n",
      "Fusce in dui sem. Vestibulum accumsan ac libero vel accumsan. \n",
      "\n"
     ]
    }
   ],
   "source": [
    "nazwa = input(\"Podaj dokładną ścieżkę do pliku: \")\n",
    "plik = open(nazwa, 'r')\n",
    "print()\n",
    "print(plik.read())\n",
    "plik.close()\n",
    "\n",
    "# przykładowa ścieżka\n",
    "# /home/agnieszka/Dokumenty/IiE sem 3/PiADwJP/test.txt"
   ]
  },
  {
   "cell_type": "markdown",
   "metadata": {},
   "source": [
    "## Zadanie 12.2.\n",
    "#### Napisz program „lista.py”, który: \n",
    "1. **Jeżeli na dysku nie ma pliku „lista.txt”, wczyta od użytkownika listę studentów (imię, nazwisko, grupa) i zapisze ją do pliku „lista.txt”** \n",
    "2. **Jeżeli na dysku jest już plik „lista.txt”, wczyta z niego listę studentów (imię, nazwisko, grupa) , a użytkownikowi umożliwi dopisywanie nowych studentów do listy, na koniec zapisze listę z powrotem do pliku.**"
   ]
  },
  {
   "cell_type": "code",
   "execution_count": 18,
   "metadata": {},
   "outputs": [
    {
     "name": "stdout",
     "output_type": "stream",
     "text": [
      "Studenci wpisani na listę:\n",
      "Jan, Kowalski, 2\n",
      "Agnieszka, Pytel, 4\n",
      "Jan, Nowak, 1\n",
      "Podaj dane studenta (imię, nazwisko, grupa np. Jan, Kowalski, 2): Adam, Piekarski, 5\n",
      "Podaj dane studenta (imię, nazwisko, grupa np. Jan, Kowalski, 2): Wojciech, Michalski, 1\n",
      "Podaj dane studenta (imię, nazwisko, grupa np. Jan, Kowalski, 2): \n"
     ]
    }
   ],
   "source": [
    "n = 'lista.txt'\n",
    "try:\n",
    "    plik = open(n, 'r+') # plik istnieje, otwieramy do dopisywania\n",
    "    lista_old = [line for line in plik.read().split('\\n') if len(line)]\n",
    "    print(\"Studenci wpisani na listę:\")\n",
    "    print(*lista_old, sep = '\\n')\n",
    "    \n",
    "except FileNotFoundError:\n",
    "    plik = open(n, 'w') # pliku nie ma na dysku, tworzony jest nowy\n",
    "    \n",
    "lista = [] \n",
    "student = input(\"Podaj dane studenta (imię, nazwisko, grupa np. Jan, Kowalski, 2): \")\n",
    "while len(student):\n",
    "    lista.append(student)\n",
    "    student = input(\"Podaj dane studenta (imię, nazwisko, grupa np. Jan, Kowalski, 2): \")\n",
    "\n",
    "for student in lista:\n",
    "    plik.write(student+'\\n')\n",
    "plik.close()"
   ]
  },
  {
   "cell_type": "markdown",
   "metadata": {},
   "source": [
    "## Zadanie 12.3.\n",
    "#### Napisz program „losuj_plik.py”, który wczyta od użytkownika trzy liczby całkowite: a, b i n, a następnie wygeneruje plik, zawierający n linii, z których w każdej znajdzie się losowa liczba całkowita z zakresu od a do b. W różnych liniach mają znaleźć się różne liczby, jednak ta sama liczba może występować w pliku więcej niż raz. "
   ]
  },
  {
   "cell_type": "code",
   "execution_count": 1,
   "metadata": {
    "scrolled": true
   },
   "outputs": [
    {
     "name": "stdout",
     "output_type": "stream",
     "text": [
      "Podaj liczbę całkowitą a: 2\n",
      "Podaj liczbę całkowitą b: 10\n",
      "Podaj liczbę całkowitą n: 5\n"
     ]
    }
   ],
   "source": [
    "a = int(input(\"Podaj liczbę całkowitą a: \"))\n",
    "b = int(input(\"Podaj liczbę całkowitą b: \"))\n",
    "n = int(input(\"Podaj liczbę całkowitą n: \"))"
   ]
  },
  {
   "cell_type": "code",
   "execution_count": 9,
   "metadata": {},
   "outputs": [],
   "source": [
    "plik = open('wylosowany_plik.txt','w')\n",
    "lista = []\n",
    "\n",
    "from random import choice\n",
    "\n",
    "for i in range(0,n):\n",
    "    lista.append(str(choice(range(a,(b+1)))))\n",
    "\n",
    "plik.write('\\n'.join(lista))\n",
    "plik.close()"
   ]
  },
  {
   "cell_type": "markdown",
   "metadata": {},
   "source": [
    "## Zadanie 12.4.\n",
    "#### Napisz program „losuj_plik2.py”, różniący się od programu z ćwiczenia III tym, że w całym pliku określona liczba może wystąpić tylko jeden raz. Plik nie może mieć przy tym więcej linii, niż wynosi długość zakresu od a do b. "
   ]
  },
  {
   "cell_type": "code",
   "execution_count": 3,
   "metadata": {
    "scrolled": true
   },
   "outputs": [
    {
     "name": "stdout",
     "output_type": "stream",
     "text": [
      "Podaj liczbę całkowitą a: 2\n",
      "Podaj liczbę całkowitą b: 10\n",
      "Podaj liczbę całkowitą n nie większą niż długość zakresu od a do b: 15\n",
      "N jest zbyt duże. Długość zakresu to 9 .\n",
      "Podaj liczbę całkowitą n nie większą niż długość zakresu od a do b: 5\n"
     ]
    }
   ],
   "source": [
    "a = int(input(\"Podaj liczbę całkowitą a: \"))\n",
    "b = int(input(\"Podaj liczbę całkowitą b: \"))\n",
    "n = int(input(\"Podaj liczbę całkowitą n nie większą niż długość zakresu od a do b: \"))\n",
    "zakres = len(range(a,b+1))\n",
    "while n > zakres:\n",
    "    print(\"N jest zbyt duże. Długość zakresu to\",zakres,\".\")\n",
    "    n = int(input(\"Podaj liczbę całkowitą n nie większą niż długość zakresu od a do b: \"))"
   ]
  },
  {
   "cell_type": "code",
   "execution_count": 7,
   "metadata": {},
   "outputs": [],
   "source": [
    "plik = open('wylosowany_plik2.txt','w')\n",
    "lista = []\n",
    "\n",
    "from random import choice\n",
    "\n",
    "while len(lista) < n:\n",
    "    liczba = choice(range(a,b+1))\n",
    "    if liczba not in lista: lista.append(liczba)\n",
    "\n",
    "plik.write('\\n'.join([str(x) for x in lista]))\n",
    "plik.close()"
   ]
  },
  {
   "cell_type": "markdown",
   "metadata": {},
   "source": [
    "## Zadanie 13.1.\n",
    "#### Napisz program, który znajdzie w podanym przez użytkownika katalogu i wszystkich jego podkatalogach wszystkie pliki, które zawierają podany przez użytkownika napis. "
   ]
  },
  {
   "cell_type": "code",
   "execution_count": 9,
   "metadata": {},
   "outputs": [
    {
     "name": "stdout",
     "output_type": "stream",
     "text": [
      "Podaj dokładną nazwę katalogu (ścieżka bezwzględna):/home/agnieszka/Dokumenty/IiE sem 3/PiADwJP\n",
      "Podaj napis: Spra\n",
      "\n",
      "Sprawozdanie_5.docx\n",
      "Sprawozdanie_7.docx\n",
      ".~lock.Sprawozdanie_5.docx#\n",
      "Sprawozdanie_6.docx\n",
      "Sprawozdanie 1.py\n",
      "Sprawozdanie_2.py\n",
      "Sprawozdanie_2.html\n",
      "Sprawozdanie_2.docx\n",
      "Sprawozdanie_2.ipynb\n",
      "Sprawozdanie 4.py\n",
      "Sprawozdanie 4.ipynb\n",
      "Sprawozdanie_4.docx\n",
      "Sprawozdanie 4.html\n",
      "Sprawozdanie 3.py\n",
      "Sprawozdanie 3.html\n",
      "Sprawozdanie 3.ipynb\n",
      "Sprawozdanie_3.docx\n",
      "Sprawozdanie 1.py\n",
      "Sprawozdanie 1.html\n",
      "Sprawozdanie_1.docx\n",
      "Sprawozdanie 1.ipynb\n"
     ]
    }
   ],
   "source": [
    "from os import *\n",
    "from fnmatch import fnmatch\n",
    "\n",
    "katalog = input(\"Podaj dokładną nazwę katalogu (ścieżka bezwzględna):\")\n",
    "# przykładowa nazwa: /home/agnieszka/Dokumenty/IiE sem 3/PiADwJP\n",
    "napis = input(\"Podaj napis: \")\n",
    "# przykładowy napis: Sprawozdanie\n",
    "\n",
    "pliki_napis = []\n",
    "for sciezka, podkatalog, pliki in walk(katalog):\n",
    "    for plik in pliki: \n",
    "        if fnmatch(plik,'*'+napis+'*'): pliki_napis.append(plik)\n",
    "print()\n",
    "print(*pliki_napis, sep = \"\\n\")"
   ]
  },
  {
   "cell_type": "markdown",
   "metadata": {},
   "source": [
    "## Zadanie 13.2.\n",
    "#### Napisz program, który znajdzie w podanym przez użytkownika katalogu i wszystkich jego podkatalogach najstarszy i najdłuższy plik. "
   ]
  },
  {
   "cell_type": "code",
   "execution_count": 12,
   "metadata": {},
   "outputs": [],
   "source": [
    "from time import ctime\n",
    "from os import path, walk"
   ]
  },
  {
   "cell_type": "code",
   "execution_count": 13,
   "metadata": {},
   "outputs": [
    {
     "name": "stdout",
     "output_type": "stream",
     "text": [
      "Podaj dokładną nazwę katalogu (ścieżka bezwzględna):/home/agnieszka/Dokumenty/IiE sem 3/PiADwJP\n",
      "Najstarszy plik: \n",
      " Sprawozdanie 1.ipynb :  Wed Jan  2 23:32:07 2019\n",
      "Najdłuższy plik: \n",
      " lekc 14.ppt :  2053632 b\n"
     ]
    }
   ],
   "source": [
    "katalog = input(\"Podaj dokładną nazwę katalogu (ścieżka bezwzględna):\")\n",
    "# przykładowa nazwa: /home/agnieszka/Dokumenty/IiE sem 3/PiADwJP\n",
    "\n",
    "najstarszy = { 'nazwa': '', 'data_utworzenia': ctime() }\n",
    "najdluzszy = { 'nazwa': '', 'rozmiar': 0 }\n",
    "\n",
    "for sciezka, podkatalog, pliki in walk(katalog):\n",
    "    for plik in pliki:        \n",
    "        filepath = sciezka+'/'+plik\n",
    "        \n",
    "        if ctime(path.getctime(filepath)) > najstarszy['data_utworzenia']:\n",
    "            najstarszy['nazwa'] = plik\n",
    "            najstarszy['data_utworzenia'] = ctime(path.getctime(filepath))     \n",
    "        if path.getsize(filepath) > najdluzszy['rozmiar']:\n",
    "            najdluzszy['nazwa'] = plik\n",
    "            najdluzszy['rozmiar'] = path.getsize(filepath)\n",
    "            \n",
    "print(\"Najstarszy plik: \\n\",najstarszy['nazwa'],\": \",najstarszy['data_utworzenia'])\n",
    "print(\"Najdłuższy plik: \\n\",najdluzszy['nazwa'],\": \",najdluzszy['rozmiar'],'b')"
   ]
  },
  {
   "cell_type": "markdown",
   "metadata": {},
   "source": [
    "## Zadanie 13.3.\n",
    "#### Napisz program, który znajdzie w podanym przez użytkownika katalogu i wszystkich jego podkatalogach wszystkie zdublowane pliki, czyli takie pliki, których nazwa występuje jednocześnie w więcej niż jednym miejscu. "
   ]
  },
  {
   "cell_type": "code",
   "execution_count": 1,
   "metadata": {},
   "outputs": [],
   "source": [
    "from os import path, walk"
   ]
  },
  {
   "cell_type": "code",
   "execution_count": 26,
   "metadata": {
    "scrolled": true
   },
   "outputs": [
    {
     "name": "stdout",
     "output_type": "stream",
     "text": [
      "Podaj dokładną nazwę katalogu (ścieżka bezwzględna):/home/agnieszka/Dokumenty/IiE sem 3/PiADwJP\n",
      "\n",
      "Nazwa pliku: test.txt \n",
      "Wystąpienia: 3 \n",
      "Ścieżki:\n",
      " /home/agnieszka/Dokumenty/IiE sem 3/PiADwJP/test.txt\n",
      "/home/agnieszka/Dokumenty/IiE sem 3/PiADwJP/Python wykłady/test.txt\n",
      "/home/agnieszka/Dokumenty/IiE sem 3/PiADwJP/Pytel_Agnieszka/Sprawozdanie_4/test.txt\n",
      "\n",
      "Nazwa pliku: lekc 10.ppt \n",
      "Wystąpienia: 2 \n",
      "Ścieżki:\n",
      " /home/agnieszka/Dokumenty/IiE sem 3/PiADwJP/lekc 10.ppt\n",
      "/home/agnieszka/Dokumenty/IiE sem 3/PiADwJP/Python wykłady/w10/lekc 10.ppt\n",
      "\n",
      "Nazwa pliku: Sprawozdanie 1.py \n",
      "Wystąpienia: 2 \n",
      "Ścieżki:\n",
      " /home/agnieszka/Dokumenty/IiE sem 3/PiADwJP/Pytel_Agnieszka/Sprawozdanie_2/Sprawozdanie 1.py\n",
      "/home/agnieszka/Dokumenty/IiE sem 3/PiADwJP/Pytel_Agnieszka/Sprawozdanie_1/Sprawozdanie 1.py\n"
     ]
    }
   ],
   "source": [
    "katalog = input(\"Podaj dokładną nazwę katalogu (ścieżka bezwzględna):\")\n",
    "# przykładowa nazwa: /home/agnieszka/Dokumenty/IiE sem 3/PiADwJP\n",
    "\n",
    "nazwy = set()\n",
    "wystapienia = {}\n",
    "\n",
    "for sciezka, podkatalog, pliki in walk(katalog):\n",
    "    for plik in pliki:\n",
    "        filepath = sciezka+'/'+plik\n",
    "        if plik in nazwy:\n",
    "            wystapienia[plik]['sciezki'].append(filepath)\n",
    "            wystapienia[plik]['wystapienia'] += 1\n",
    "        else:\n",
    "            wystapienia[plik] = {}\n",
    "            wystapienia[plik]['sciezki']= [filepath]\n",
    "            wystapienia[plik]['wystapienia'] = 1\n",
    "        nazwy.add(plik)\n",
    "\n",
    "zdublowane =  [ [plik, nazwa] for plik, nazwa in wystapienia.items() if nazwa['wystapienia'] > 1]\n",
    "\n",
    "for plik in zdublowane:\n",
    "    print(\"\\nNazwa pliku:\",plik[0],\"\\nWystąpienia:\",plik[1]['wystapienia'],\"\\nŚcieżki:\\n\",'\\n'.join(plik[1]['sciezki']))"
   ]
  },
  {
   "cell_type": "markdown",
   "metadata": {},
   "source": [
    "\n"
   ]
  }
 ],
 "metadata": {
  "kernelspec": {
   "display_name": "Python 3",
   "language": "python",
   "name": "python3"
  },
  "language_info": {
   "codemirror_mode": {
    "name": "ipython",
    "version": 3
   },
   "file_extension": ".py",
   "mimetype": "text/x-python",
   "name": "python",
   "nbconvert_exporter": "python",
   "pygments_lexer": "ipython3",
   "version": "3.7.1"
  }
 },
 "nbformat": 4,
 "nbformat_minor": 2
}
