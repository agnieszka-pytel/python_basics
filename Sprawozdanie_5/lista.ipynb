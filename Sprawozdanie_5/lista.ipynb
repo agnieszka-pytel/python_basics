{
 "cells": [
  {
   "cell_type": "markdown",
   "metadata": {},
   "source": [
    "## Zadanie 12.2.\n",
    "#### Napisz program „lista.py”, który: \n",
    "1. **Jeżeli na dysku nie ma pliku „lista.txt”, wczyta od użytkownika listę studentów (imię, nazwisko, grupa) i zapisze ją do pliku „lista.txt”** \n",
    "2. **Jeżeli na dysku jest już plik „lista.txt”, wczyta z niego listę studentów (imię, nazwisko, grupa) , a użytkownikowi umożliwi dopisywanie nowych studentów do listy, na koniec zapisze listę z powrotem do pliku.**"
   ]
  },
  {
   "cell_type": "code",
   "execution_count": 19,
   "metadata": {},
   "outputs": [
    {
     "name": "stdout",
     "output_type": "stream",
     "text": [
      "Podaj dane studenta (imię, nazwisko, grupa np. Jan, Kowalski, 2): Jan, Kowalski, 2\n",
      "Podaj dane studenta (imię, nazwisko, grupa np. Jan, Kowalski, 2): Agnieszka, Pytel, 4\n",
      "Podaj dane studenta (imię, nazwisko, grupa np. Jan, Kowalski, 2): Jan, Nowak, 1\n",
      "Podaj dane studenta (imię, nazwisko, grupa np. Jan, Kowalski, 2): \n"
     ]
    }
   ],
   "source": [
    "n = 'lista.txt'\n",
    "try:\n",
    "    plik = open(n, 'r+') # plik istnieje, otwieramy do dopisywania\n",
    "    lista_old = [line for line in plik.read().split('\\n') if len(line)]\n",
    "    print(\"Studenci wpisani na listę:\")\n",
    "    print(*lista_old, sep = '\\n')\n",
    "    \n",
    "except FileNotFoundError:\n",
    "    plik = open(n, 'w') # pliku nie ma na dysku, tworzony jest nowy\n",
    "    \n",
    "lista = [] \n",
    "student = input(\"Podaj dane studenta (imię, nazwisko, grupa np. Jan, Kowalski, 2): \")\n",
    "while len(student):\n",
    "    lista.append(student)\n",
    "    student = input(\"Podaj dane studenta (imię, nazwisko, grupa np. Jan, Kowalski, 2): \")\n",
    "\n",
    "for student in lista:\n",
    "    plik.write(student+'\\n')\n",
    "plik.close()"
   ]
  }
 ],
 "metadata": {
  "kernelspec": {
   "display_name": "Python 3",
   "language": "python",
   "name": "python3"
  },
  "language_info": {
   "codemirror_mode": {
    "name": "ipython",
    "version": 3
   },
   "file_extension": ".py",
   "mimetype": "text/x-python",
   "name": "python",
   "nbconvert_exporter": "python",
   "pygments_lexer": "ipython3",
   "version": "3.7.1"
  }
 },
 "nbformat": 4,
 "nbformat_minor": 2
}
