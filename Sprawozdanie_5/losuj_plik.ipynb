{
 "cells": [
  {
   "cell_type": "markdown",
   "metadata": {},
   "source": [
    "## Zadanie 12.3.\n",
    "#### Napisz program „losuj_plik.py”, który wczyta od użytkownika trzy liczby całkowite: a, b i n, a następnie wygeneruje plik, zawierający n linii, z których w każdej znajdzie się losowa liczba całkowita z zakresu od a do b. W różnych liniach mają znaleźć się różne liczby, jednak ta sama liczba może występować w pliku więcej niż raz. "
   ]
  },
  {
   "cell_type": "code",
   "execution_count": 1,
   "metadata": {
    "scrolled": true
   },
   "outputs": [
    {
     "name": "stdout",
     "output_type": "stream",
     "text": [
      "Podaj liczbę całkowitą a: 2\n",
      "Podaj liczbę całkowitą b: 10\n",
      "Podaj liczbę całkowitą n: 5\n"
     ]
    }
   ],
   "source": [
    "a = int(input(\"Podaj liczbę całkowitą a: \"))\n",
    "b = int(input(\"Podaj liczbę całkowitą b: \"))\n",
    "n = int(input(\"Podaj liczbę całkowitą n: \"))"
   ]
  },
  {
   "cell_type": "code",
   "execution_count": 9,
   "metadata": {},
   "outputs": [],
   "source": [
    "plik = open('wylosowany_plik.txt','w')\n",
    "lista = []\n",
    "\n",
    "from random import choice\n",
    "\n",
    "for i in range(0,n):\n",
    "    lista.append(str(choice(range(a,(b+1)))))\n",
    "\n",
    "plik.write('\\n'.join(lista))\n",
    "plik.close()"
   ]
  }
 ],
 "metadata": {
  "kernelspec": {
   "display_name": "Python 3",
   "language": "python",
   "name": "python3"
  },
  "language_info": {
   "codemirror_mode": {
    "name": "ipython",
    "version": 3
   },
   "file_extension": ".py",
   "mimetype": "text/x-python",
   "name": "python",
   "nbconvert_exporter": "python",
   "pygments_lexer": "ipython3",
   "version": "3.7.1"
  }
 },
 "nbformat": 4,
 "nbformat_minor": 2
}
