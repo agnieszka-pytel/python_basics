{
 "cells": [
  {
   "cell_type": "markdown",
   "metadata": {},
   "source": [
    "## Zadanie 12.4.\n",
    "#### Napisz program „losuj_plik2.py”, różniący się od programu z ćwiczenia III tym, że w całym pliku określona liczba może wystąpić tylko jeden raz. Plik nie może mieć przy tym więcej linii, niż wynosi długość zakresu od a do b. "
   ]
  },
  {
   "cell_type": "code",
   "execution_count": 3,
   "metadata": {
    "scrolled": true
   },
   "outputs": [
    {
     "name": "stdout",
     "output_type": "stream",
     "text": [
      "Podaj liczbę całkowitą a: 2\n",
      "Podaj liczbę całkowitą b: 10\n",
      "Podaj liczbę całkowitą n nie większą niż długość zakresu od a do b: 15\n",
      "N jest zbyt duże. Długość zakresu to 9 .\n",
      "Podaj liczbę całkowitą n nie większą niż długość zakresu od a do b: 5\n"
     ]
    }
   ],
   "source": [
    "a = int(input(\"Podaj liczbę całkowitą a: \"))\n",
    "b = int(input(\"Podaj liczbę całkowitą b: \"))\n",
    "n = int(input(\"Podaj liczbę całkowitą n nie większą niż długość zakresu od a do b: \"))\n",
    "zakres = len(range(a,b+1))\n",
    "while n > zakres:\n",
    "    print(\"N jest zbyt duże. Długość zakresu to\",zakres,\".\")\n",
    "    n = int(input(\"Podaj liczbę całkowitą n nie większą niż długość zakresu od a do b: \"))"
   ]
  },
  {
   "cell_type": "code",
   "execution_count": 7,
   "metadata": {},
   "outputs": [],
   "source": [
    "plik = open('wylosowany_plik2.txt','w')\n",
    "lista = []\n",
    "\n",
    "from random import choice\n",
    "\n",
    "while len(lista) < n:\n",
    "    liczba = choice(range(a,b+1))\n",
    "    if liczba not in lista: lista.append(liczba)\n",
    "\n",
    "plik.write('\\n'.join([str(x) for x in lista]))\n",
    "plik.close()"
   ]
  }
 ],
 "metadata": {
  "kernelspec": {
   "display_name": "Python 3",
   "language": "python",
   "name": "python3"
  },
  "language_info": {
   "codemirror_mode": {
    "name": "ipython",
    "version": 3
   },
   "file_extension": ".py",
   "mimetype": "text/x-python",
   "name": "python",
   "nbconvert_exporter": "python",
   "pygments_lexer": "ipython3",
   "version": "3.7.1"
  }
 },
 "nbformat": 4,
 "nbformat_minor": 2
}
