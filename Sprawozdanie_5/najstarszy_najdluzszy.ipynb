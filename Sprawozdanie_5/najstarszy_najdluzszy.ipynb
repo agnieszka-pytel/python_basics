{
 "cells": [
  {
   "cell_type": "markdown",
   "metadata": {},
   "source": [
    "## Zadanie 13.2.\n",
    "#### Napisz program, który znajdzie w podanym przez użytkownika katalogu i wszystkich jego podkatalogach najstarszy i najdłuższy plik. "
   ]
  },
  {
   "cell_type": "code",
   "execution_count": 12,
   "metadata": {},
   "outputs": [],
   "source": [
    "from time import ctime\n",
    "from os import path, walk"
   ]
  },
  {
   "cell_type": "code",
   "execution_count": 13,
   "metadata": {},
   "outputs": [
    {
     "name": "stdout",
     "output_type": "stream",
     "text": [
      "Podaj dokładną nazwę katalogu (ścieżka bezwzględna):/home/agnieszka/Dokumenty/IiE sem 3/PiADwJP\n",
      "Najstarszy plik: \n",
      " Sprawozdanie 1.ipynb :  Wed Jan  2 23:32:07 2019\n",
      "Najdłuższy plik: \n",
      " lekc 14.ppt :  2053632 b\n"
     ]
    }
   ],
   "source": [
    "katalog = input(\"Podaj dokładną nazwę katalogu (ścieżka bezwzględna):\")\n",
    "# przykładowa nazwa: /home/agnieszka/Dokumenty/IiE sem 3/PiADwJP\n",
    "\n",
    "najstarszy = { 'nazwa': '', 'data_utworzenia': ctime() }\n",
    "najdluzszy = { 'nazwa': '', 'rozmiar': 0 }\n",
    "\n",
    "for sciezka, podkatalog, pliki in walk(katalog):\n",
    "    for plik in pliki:        \n",
    "        filepath = sciezka+'/'+plik\n",
    "        \n",
    "        if ctime(path.getctime(filepath)) > najstarszy['data_utworzenia']:\n",
    "            najstarszy['nazwa'] = plik\n",
    "            najstarszy['data_utworzenia'] = ctime(path.getctime(filepath))     \n",
    "        if path.getsize(filepath) > najdluzszy['rozmiar']:\n",
    "            najdluzszy['nazwa'] = plik\n",
    "            najdluzszy['rozmiar'] = path.getsize(filepath)\n",
    "            \n",
    "print(\"Najstarszy plik: \\n\",najstarszy['nazwa'],\": \",najstarszy['data_utworzenia'])\n",
    "print(\"Najdłuższy plik: \\n\",najdluzszy['nazwa'],\": \",najdluzszy['rozmiar'],'b')"
   ]
  }
 ],
 "metadata": {
  "kernelspec": {
   "display_name": "Python 3",
   "language": "python",
   "name": "python3"
  },
  "language_info": {
   "codemirror_mode": {
    "name": "ipython",
    "version": 3
   },
   "file_extension": ".py",
   "mimetype": "text/x-python",
   "name": "python",
   "nbconvert_exporter": "python",
   "pygments_lexer": "ipython3",
   "version": "3.7.1"
  }
 },
 "nbformat": 4,
 "nbformat_minor": 2
}
