{
 "cells": [
  {
   "cell_type": "markdown",
   "metadata": {},
   "source": [
    "## Zadanie 13.1.\n",
    "#### Napisz program, który znajdzie w podanym przez użytkownika katalogu i wszystkich jego podkatalogach wszystkie pliki, które zawierają podany przez użytkownika napis. "
   ]
  },
  {
   "cell_type": "code",
   "execution_count": 9,
   "metadata": {},
   "outputs": [
    {
     "name": "stdout",
     "output_type": "stream",
     "text": [
      "Podaj dokładną nazwę katalogu (ścieżka bezwzględna):/home/agnieszka/Dokumenty/IiE sem 3/PiADwJP\n",
      "Podaj napis: Spra\n",
      "\n",
      "Sprawozdanie_5.docx\n",
      "Sprawozdanie_7.docx\n",
      ".~lock.Sprawozdanie_5.docx#\n",
      "Sprawozdanie_6.docx\n",
      "Sprawozdanie 1.py\n",
      "Sprawozdanie_2.py\n",
      "Sprawozdanie_2.html\n",
      "Sprawozdanie_2.docx\n",
      "Sprawozdanie_2.ipynb\n",
      "Sprawozdanie 4.py\n",
      "Sprawozdanie 4.ipynb\n",
      "Sprawozdanie_4.docx\n",
      "Sprawozdanie 4.html\n",
      "Sprawozdanie 3.py\n",
      "Sprawozdanie 3.html\n",
      "Sprawozdanie 3.ipynb\n",
      "Sprawozdanie_3.docx\n",
      "Sprawozdanie 1.py\n",
      "Sprawozdanie 1.html\n",
      "Sprawozdanie_1.docx\n",
      "Sprawozdanie 1.ipynb\n"
     ]
    }
   ],
   "source": [
    "from os import *\n",
    "from fnmatch import fnmatch\n",
    "\n",
    "katalog = input(\"Podaj dokładną nazwę katalogu (ścieżka bezwzględna):\")\n",
    "# przykładowa nazwa: /home/agnieszka/Dokumenty/IiE sem 3/PiADwJP\n",
    "napis = input(\"Podaj napis: \")\n",
    "# przykładowy napis: Sprawozdanie\n",
    "\n",
    "pliki_napis = []\n",
    "for sciezka, podkatalog, pliki in walk(katalog):\n",
    "    for plik in pliki: \n",
    "        if fnmatch(plik,'*'+napis+'*'): pliki_napis.append(plik)\n",
    "print()\n",
    "print(*pliki_napis, sep = \"\\n\")"
   ]
  }
 ],
 "metadata": {
  "kernelspec": {
   "display_name": "Python 3",
   "language": "python",
   "name": "python3"
  },
  "language_info": {
   "codemirror_mode": {
    "name": "ipython",
    "version": 3
   },
   "file_extension": ".py",
   "mimetype": "text/x-python",
   "name": "python",
   "nbconvert_exporter": "python",
   "pygments_lexer": "ipython3",
   "version": "3.7.1"
  }
 },
 "nbformat": 4,
 "nbformat_minor": 2
}
