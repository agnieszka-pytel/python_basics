{
 "cells": [
  {
   "cell_type": "markdown",
   "metadata": {},
   "source": [
    "## Zadanie 12.1.\n",
    "#### Napisz program „type.py”, który wyświetli na ekranie zawartość pliku o nazwie podanej przez użytkownika. "
   ]
  },
  {
   "cell_type": "code",
   "execution_count": 20,
   "metadata": {},
   "outputs": [
    {
     "name": "stdout",
     "output_type": "stream",
     "text": [
      "Podaj dokładną ścieżkę do pliku: /home/agnieszka/Dokumenty/IiE sem 3/PiADwJP/test.txt\n",
      "\n",
      "Lorem ipsum dolor sit amet, consectetur adipiscing elit. Donec porttitor semper augue et sodales. Duis magna metus, facilisis et dui vel, finibus congue nibh. Ut id ligula scelerisque, semper dolor tincidunt, mollis justo. Duis fermentum convallis sapien, at congue metus facilisis lobortis. \n",
      "\n",
      "Ut faucibus nisl turpis, ut sodales libero venenatis sit amet. Orci varius natoque penatibus et magnis dis parturient montes, nascetur ridiculus mus. Vivamus ac sapien vestibulum, euismod lorem non, fringilla est. \n",
      "\n",
      "Fusce in dui sem. Vestibulum accumsan ac libero vel accumsan. \n",
      "\n"
     ]
    }
   ],
   "source": [
    "nazwa = input(\"Podaj dokładną ścieżkę do pliku: \")\n",
    "plik = open(nazwa, 'r')\n",
    "print()\n",
    "print(plik.read())\n",
    "plik.close()\n",
    "\n",
    "# przykładowa ścieżka\n",
    "# /home/agnieszka/Dokumenty/IiE sem 3/PiADwJP/test.txt"
   ]
  }
 ],
 "metadata": {
  "kernelspec": {
   "display_name": "Python 3",
   "language": "python",
   "name": "python3"
  },
  "language_info": {
   "codemirror_mode": {
    "name": "ipython",
    "version": 3
   },
   "file_extension": ".py",
   "mimetype": "text/x-python",
   "name": "python",
   "nbconvert_exporter": "python",
   "pygments_lexer": "ipython3",
   "version": "3.7.1"
  }
 },
 "nbformat": 4,
 "nbformat_minor": 2
}
