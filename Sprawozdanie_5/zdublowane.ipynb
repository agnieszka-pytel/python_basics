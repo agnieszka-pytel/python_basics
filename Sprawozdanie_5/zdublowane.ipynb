{
 "cells": [
  {
   "cell_type": "markdown",
   "metadata": {},
   "source": [
    "## Zadanie 13.3.\n",
    "#### Napisz program, który znajdzie w podanym przez użytkownika katalogu i wszystkich jego podkatalogach wszystkie zdublowane pliki, czyli takie pliki, których nazwa występuje jednocześnie w więcej niż jednym miejscu. "
   ]
  },
  {
   "cell_type": "code",
   "execution_count": 1,
   "metadata": {},
   "outputs": [],
   "source": [
    "from os import path, walk"
   ]
  },
  {
   "cell_type": "code",
   "execution_count": 26,
   "metadata": {},
   "outputs": [
    {
     "name": "stdout",
     "output_type": "stream",
     "text": [
      "Podaj dokładną nazwę katalogu (ścieżka bezwzględna):/home/agnieszka/Dokumenty/IiE sem 3/PiADwJP\n",
      "\n",
      "Nazwa pliku: test.txt \n",
      "Wystąpienia: 3 \n",
      "Ścieżki:\n",
      " /home/agnieszka/Dokumenty/IiE sem 3/PiADwJP/test.txt\n",
      "/home/agnieszka/Dokumenty/IiE sem 3/PiADwJP/Python wykłady/test.txt\n",
      "/home/agnieszka/Dokumenty/IiE sem 3/PiADwJP/Pytel_Agnieszka/Sprawozdanie_4/test.txt\n",
      "\n",
      "Nazwa pliku: lekc 10.ppt \n",
      "Wystąpienia: 2 \n",
      "Ścieżki:\n",
      " /home/agnieszka/Dokumenty/IiE sem 3/PiADwJP/lekc 10.ppt\n",
      "/home/agnieszka/Dokumenty/IiE sem 3/PiADwJP/Python wykłady/w10/lekc 10.ppt\n",
      "\n",
      "Nazwa pliku: Sprawozdanie 1.py \n",
      "Wystąpienia: 2 \n",
      "Ścieżki:\n",
      " /home/agnieszka/Dokumenty/IiE sem 3/PiADwJP/Pytel_Agnieszka/Sprawozdanie_2/Sprawozdanie 1.py\n",
      "/home/agnieszka/Dokumenty/IiE sem 3/PiADwJP/Pytel_Agnieszka/Sprawozdanie_1/Sprawozdanie 1.py\n"
     ]
    }
   ],
   "source": [
    "katalog = input(\"Podaj dokładną nazwę katalogu (ścieżka bezwzględna):\")\n",
    "# przykładowa nazwa: /home/agnieszka/Dokumenty/IiE sem 3/PiADwJP\n",
    "\n",
    "nazwy = set()\n",
    "wystapienia = {}\n",
    "\n",
    "for sciezka, podkatalog, pliki in walk(katalog):\n",
    "    for plik in pliki:\n",
    "        filepath = sciezka+'/'+plik\n",
    "        if plik in nazwy:\n",
    "            wystapienia[plik]['sciezki'].append(filepath)\n",
    "            wystapienia[plik]['wystapienia'] += 1\n",
    "        else:\n",
    "            wystapienia[plik] = {}\n",
    "            wystapienia[plik]['sciezki']= [filepath]\n",
    "            wystapienia[plik]['wystapienia'] = 1\n",
    "        nazwy.add(plik)\n",
    "\n",
    "zdublowane =  [ [plik, nazwa] for plik, nazwa in wystapienia.items() if nazwa['wystapienia'] > 1]\n",
    "\n",
    "for plik in zdublowane:\n",
    "    print(\"\\nNazwa pliku:\",plik[0],\"\\nWystąpienia:\",plik[1]['wystapienia'],\"\\nŚcieżki:\\n\",'\\n'.join(plik[1]['sciezki']))"
   ]
  }
 ],
 "metadata": {
  "kernelspec": {
   "display_name": "Python 3",
   "language": "python",
   "name": "python3"
  },
  "language_info": {
   "codemirror_mode": {
    "name": "ipython",
    "version": 3
   },
   "file_extension": ".py",
   "mimetype": "text/x-python",
   "name": "python",
   "nbconvert_exporter": "python",
   "pygments_lexer": "ipython3",
   "version": "3.7.1"
  }
 },
 "nbformat": 4,
 "nbformat_minor": 2
}
